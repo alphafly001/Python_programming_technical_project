{
  "nbformat": 4,
  "nbformat_minor": 0,
  "metadata": {
    "colab": {
      "provenance": [],
      "collapsed_sections": [
        "OyJ2sWL27gyG"
      ]
    },
    "kernelspec": {
      "name": "python3",
      "display_name": "Python 3"
    },
    "language_info": {
      "name": "python"
    }
  },
  "cells": [
    {
      "cell_type": "markdown",
      "source": [
        "## 1. Connect with drive."
      ],
      "metadata": {
        "id": "OyJ2sWL27gyG"
      }
    },
    {
      "cell_type": "code",
      "execution_count": null,
      "metadata": {
        "colab": {
          "base_uri": "https://localhost:8080/"
        },
        "id": "dyVMIAkglZhg",
        "outputId": "2b52136f-b528-4a31-b316-169abc5cf11d"
      },
      "outputs": [
        {
          "output_type": "stream",
          "name": "stdout",
          "text": [
            "Mounted at /content/drive\n"
          ]
        }
      ],
      "source": [
        "from google.colab import drive\n",
        "drive.mount('/content/drive')"
      ]
    },
    {
      "cell_type": "markdown",
      "source": [
        "## 2. Merge sheets"
      ],
      "metadata": {
        "id": "IjR_mIeh7k_W"
      }
    },
    {
      "cell_type": "code",
      "source": [
        "import pandas as pd\n",
        "\n",
        "# Link data \n",
        "link_data='/content/drive/MyDrive/Data/Process_Data/Data_vista.xlsx'\n",
        "\n",
        "# Đọc file Excel vào một đối tượng ExcelFile\n",
        "excel_file = pd.ExcelFile(link_data)\n",
        "\n",
        "# Lấy danh sách tên sheet trong file\n",
        "sheet_names = excel_file.sheet_names\n",
        "\n",
        "# Tạo danh sách các dataframe dựa vào sheet_names\n",
        "\n",
        "df_list = []\n"
      ],
      "metadata": {
        "id": "8NxcVE-QmSK7"
      },
      "execution_count": null,
      "outputs": []
    },
    {
      "cell_type": "code",
      "source": [
        "for i in sheet_names:\n",
        "  df = pd.read_excel(link_data, sheet_name=i)\n",
        "  df_list.append(df)"
      ],
      "metadata": {
        "id": "gq2dpA-x8FWC"
      },
      "execution_count": null,
      "outputs": []
    },
    {
      "cell_type": "code",
      "source": [
        "df_concat = pd.concat(df_list)"
      ],
      "metadata": {
        "id": "XQc1zo5z9XqT"
      },
      "execution_count": null,
      "outputs": []
    },
    {
      "cell_type": "code",
      "source": [
        "df_concat"
      ],
      "metadata": {
        "colab": {
          "base_uri": "https://localhost:8080/",
          "height": 423
        },
        "id": "nt-GYn_S9suS",
        "outputId": "4f946fd6-7851-40ca-8505-c3a8d9b07d5c"
      },
      "execution_count": null,
      "outputs": [
        {
          "output_type": "execute_result",
          "data": {
            "text/plain": [
              "   Column1 Column2   Column3               Column4               Column5  \\\n",
              "0      NaN     NaN       NaN                   NaN                   NaN   \n",
              "1      NaN   Hs\\ne       NaN               Address               Contact   \n",
              "2       No  /\\nBlk      Unit                   (2)                  Name   \n",
              "3        1      T2     T2020            TP BUON MA        LE THI KIM ANH   \n",
              "4      NaN     NaN         2                THUOT,                   NaN   \n",
              "..     ...     ...       ...                   ...                   ...   \n",
              "20   310.0      T2  T2340\\n5  CAU ONG\\nLANH, Q. 1,        TRAN THUC NHAN   \n",
              "0    311.0      T2     T2340              MONTEREY         LEUNG KAI SUN   \n",
              "1      NaN     NaN         6                 PARK,                 SUNNY   \n",
              "2    312.0      T2  T2340\\n7       P. AN PHU, Q.2,       NGUYEN ANH NGOC   \n",
              "3    313.0      T2  T2340\\n8    P. BEN NGHE,\\nQ.1,  NGUYEN BUI XUAN\\nANH   \n",
              "\n",
              "           Column6                       Column7  3RD  \n",
              "0           Mobile                           NaN  NaN  \n",
              "1            Phone                           NaN  NaN  \n",
              "2               No                        E-mail  NaN  \n",
              "3    01689 237 651          CONGCHUANHAGIAU_3000  NaN  \n",
              "4              NaN                    @YAHOO.COM  NaN  \n",
              "..             ...                           ...  ...  \n",
              "20    0903 606 168   CELINE_TRINH@YAHOO.CO\\nM.TW  NaN  \n",
              "0   +121 3447 7249                  SUNNY@LEUNG-  NaN  \n",
              "1              NaN                    FAMILY.COM  NaN  \n",
              "2     0904 869 999     ANHNGOC181099@YAHOO.C\\nOM  NaN  \n",
              "3     0979 227 939  XUANANH_NGUYEN@HOTM\\nAIL.COM  NaN  \n",
              "\n",
              "[771 rows x 8 columns]"
            ],
            "text/html": [
              "\n",
              "  <div id=\"df-ce020093-4e87-43bb-8361-d974830944c6\">\n",
              "    <div class=\"colab-df-container\">\n",
              "      <div>\n",
              "<style scoped>\n",
              "    .dataframe tbody tr th:only-of-type {\n",
              "        vertical-align: middle;\n",
              "    }\n",
              "\n",
              "    .dataframe tbody tr th {\n",
              "        vertical-align: top;\n",
              "    }\n",
              "\n",
              "    .dataframe thead th {\n",
              "        text-align: right;\n",
              "    }\n",
              "</style>\n",
              "<table border=\"1\" class=\"dataframe\">\n",
              "  <thead>\n",
              "    <tr style=\"text-align: right;\">\n",
              "      <th></th>\n",
              "      <th>Column1</th>\n",
              "      <th>Column2</th>\n",
              "      <th>Column3</th>\n",
              "      <th>Column4</th>\n",
              "      <th>Column5</th>\n",
              "      <th>Column6</th>\n",
              "      <th>Column7</th>\n",
              "      <th>3RD</th>\n",
              "    </tr>\n",
              "  </thead>\n",
              "  <tbody>\n",
              "    <tr>\n",
              "      <th>0</th>\n",
              "      <td>NaN</td>\n",
              "      <td>NaN</td>\n",
              "      <td>NaN</td>\n",
              "      <td>NaN</td>\n",
              "      <td>NaN</td>\n",
              "      <td>Mobile</td>\n",
              "      <td>NaN</td>\n",
              "      <td>NaN</td>\n",
              "    </tr>\n",
              "    <tr>\n",
              "      <th>1</th>\n",
              "      <td>NaN</td>\n",
              "      <td>Hs\\ne</td>\n",
              "      <td>NaN</td>\n",
              "      <td>Address</td>\n",
              "      <td>Contact</td>\n",
              "      <td>Phone</td>\n",
              "      <td>NaN</td>\n",
              "      <td>NaN</td>\n",
              "    </tr>\n",
              "    <tr>\n",
              "      <th>2</th>\n",
              "      <td>No</td>\n",
              "      <td>/\\nBlk</td>\n",
              "      <td>Unit</td>\n",
              "      <td>(2)</td>\n",
              "      <td>Name</td>\n",
              "      <td>No</td>\n",
              "      <td>E-mail</td>\n",
              "      <td>NaN</td>\n",
              "    </tr>\n",
              "    <tr>\n",
              "      <th>3</th>\n",
              "      <td>1</td>\n",
              "      <td>T2</td>\n",
              "      <td>T2020</td>\n",
              "      <td>TP BUON MA</td>\n",
              "      <td>LE THI KIM ANH</td>\n",
              "      <td>01689 237 651</td>\n",
              "      <td>CONGCHUANHAGIAU_3000</td>\n",
              "      <td>NaN</td>\n",
              "    </tr>\n",
              "    <tr>\n",
              "      <th>4</th>\n",
              "      <td>NaN</td>\n",
              "      <td>NaN</td>\n",
              "      <td>2</td>\n",
              "      <td>THUOT,</td>\n",
              "      <td>NaN</td>\n",
              "      <td>NaN</td>\n",
              "      <td>@YAHOO.COM</td>\n",
              "      <td>NaN</td>\n",
              "    </tr>\n",
              "    <tr>\n",
              "      <th>...</th>\n",
              "      <td>...</td>\n",
              "      <td>...</td>\n",
              "      <td>...</td>\n",
              "      <td>...</td>\n",
              "      <td>...</td>\n",
              "      <td>...</td>\n",
              "      <td>...</td>\n",
              "      <td>...</td>\n",
              "    </tr>\n",
              "    <tr>\n",
              "      <th>20</th>\n",
              "      <td>310.0</td>\n",
              "      <td>T2</td>\n",
              "      <td>T2340\\n5</td>\n",
              "      <td>CAU ONG\\nLANH, Q. 1,</td>\n",
              "      <td>TRAN THUC NHAN</td>\n",
              "      <td>0903 606 168</td>\n",
              "      <td>CELINE_TRINH@YAHOO.CO\\nM.TW</td>\n",
              "      <td>NaN</td>\n",
              "    </tr>\n",
              "    <tr>\n",
              "      <th>0</th>\n",
              "      <td>311.0</td>\n",
              "      <td>T2</td>\n",
              "      <td>T2340</td>\n",
              "      <td>MONTEREY</td>\n",
              "      <td>LEUNG KAI SUN</td>\n",
              "      <td>+121 3447 7249</td>\n",
              "      <td>SUNNY@LEUNG-</td>\n",
              "      <td>NaN</td>\n",
              "    </tr>\n",
              "    <tr>\n",
              "      <th>1</th>\n",
              "      <td>NaN</td>\n",
              "      <td>NaN</td>\n",
              "      <td>6</td>\n",
              "      <td>PARK,</td>\n",
              "      <td>SUNNY</td>\n",
              "      <td>NaN</td>\n",
              "      <td>FAMILY.COM</td>\n",
              "      <td>NaN</td>\n",
              "    </tr>\n",
              "    <tr>\n",
              "      <th>2</th>\n",
              "      <td>312.0</td>\n",
              "      <td>T2</td>\n",
              "      <td>T2340\\n7</td>\n",
              "      <td>P. AN PHU, Q.2,</td>\n",
              "      <td>NGUYEN ANH NGOC</td>\n",
              "      <td>0904 869 999</td>\n",
              "      <td>ANHNGOC181099@YAHOO.C\\nOM</td>\n",
              "      <td>NaN</td>\n",
              "    </tr>\n",
              "    <tr>\n",
              "      <th>3</th>\n",
              "      <td>313.0</td>\n",
              "      <td>T2</td>\n",
              "      <td>T2340\\n8</td>\n",
              "      <td>P. BEN NGHE,\\nQ.1,</td>\n",
              "      <td>NGUYEN BUI XUAN\\nANH</td>\n",
              "      <td>0979 227 939</td>\n",
              "      <td>XUANANH_NGUYEN@HOTM\\nAIL.COM</td>\n",
              "      <td>NaN</td>\n",
              "    </tr>\n",
              "  </tbody>\n",
              "</table>\n",
              "<p>771 rows × 8 columns</p>\n",
              "</div>\n",
              "      <button class=\"colab-df-convert\" onclick=\"convertToInteractive('df-ce020093-4e87-43bb-8361-d974830944c6')\"\n",
              "              title=\"Convert this dataframe to an interactive table.\"\n",
              "              style=\"display:none;\">\n",
              "        \n",
              "  <svg xmlns=\"http://www.w3.org/2000/svg\" height=\"24px\"viewBox=\"0 0 24 24\"\n",
              "       width=\"24px\">\n",
              "    <path d=\"M0 0h24v24H0V0z\" fill=\"none\"/>\n",
              "    <path d=\"M18.56 5.44l.94 2.06.94-2.06 2.06-.94-2.06-.94-.94-2.06-.94 2.06-2.06.94zm-11 1L8.5 8.5l.94-2.06 2.06-.94-2.06-.94L8.5 2.5l-.94 2.06-2.06.94zm10 10l.94 2.06.94-2.06 2.06-.94-2.06-.94-.94-2.06-.94 2.06-2.06.94z\"/><path d=\"M17.41 7.96l-1.37-1.37c-.4-.4-.92-.59-1.43-.59-.52 0-1.04.2-1.43.59L10.3 9.45l-7.72 7.72c-.78.78-.78 2.05 0 2.83L4 21.41c.39.39.9.59 1.41.59.51 0 1.02-.2 1.41-.59l7.78-7.78 2.81-2.81c.8-.78.8-2.07 0-2.86zM5.41 20L4 18.59l7.72-7.72 1.47 1.35L5.41 20z\"/>\n",
              "  </svg>\n",
              "      </button>\n",
              "      \n",
              "  <style>\n",
              "    .colab-df-container {\n",
              "      display:flex;\n",
              "      flex-wrap:wrap;\n",
              "      gap: 12px;\n",
              "    }\n",
              "\n",
              "    .colab-df-convert {\n",
              "      background-color: #E8F0FE;\n",
              "      border: none;\n",
              "      border-radius: 50%;\n",
              "      cursor: pointer;\n",
              "      display: none;\n",
              "      fill: #1967D2;\n",
              "      height: 32px;\n",
              "      padding: 0 0 0 0;\n",
              "      width: 32px;\n",
              "    }\n",
              "\n",
              "    .colab-df-convert:hover {\n",
              "      background-color: #E2EBFA;\n",
              "      box-shadow: 0px 1px 2px rgba(60, 64, 67, 0.3), 0px 1px 3px 1px rgba(60, 64, 67, 0.15);\n",
              "      fill: #174EA6;\n",
              "    }\n",
              "\n",
              "    [theme=dark] .colab-df-convert {\n",
              "      background-color: #3B4455;\n",
              "      fill: #D2E3FC;\n",
              "    }\n",
              "\n",
              "    [theme=dark] .colab-df-convert:hover {\n",
              "      background-color: #434B5C;\n",
              "      box-shadow: 0px 1px 3px 1px rgba(0, 0, 0, 0.15);\n",
              "      filter: drop-shadow(0px 1px 2px rgba(0, 0, 0, 0.3));\n",
              "      fill: #FFFFFF;\n",
              "    }\n",
              "  </style>\n",
              "\n",
              "      <script>\n",
              "        const buttonEl =\n",
              "          document.querySelector('#df-ce020093-4e87-43bb-8361-d974830944c6 button.colab-df-convert');\n",
              "        buttonEl.style.display =\n",
              "          google.colab.kernel.accessAllowed ? 'block' : 'none';\n",
              "\n",
              "        async function convertToInteractive(key) {\n",
              "          const element = document.querySelector('#df-ce020093-4e87-43bb-8361-d974830944c6');\n",
              "          const dataTable =\n",
              "            await google.colab.kernel.invokeFunction('convertToInteractive',\n",
              "                                                     [key], {});\n",
              "          if (!dataTable) return;\n",
              "\n",
              "          const docLinkHtml = 'Like what you see? Visit the ' +\n",
              "            '<a target=\"_blank\" href=https://colab.research.google.com/notebooks/data_table.ipynb>data table notebook</a>'\n",
              "            + ' to learn more about interactive tables.';\n",
              "          element.innerHTML = '';\n",
              "          dataTable['output_type'] = 'display_data';\n",
              "          await google.colab.output.renderOutput(dataTable, element);\n",
              "          const docLink = document.createElement('div');\n",
              "          docLink.innerHTML = docLinkHtml;\n",
              "          element.appendChild(docLink);\n",
              "        }\n",
              "      </script>\n",
              "    </div>\n",
              "  </div>\n",
              "  "
            ]
          },
          "metadata": {},
          "execution_count": 5
        }
      ]
    },
    {
      "cell_type": "code",
      "source": [
        "df_"
      ],
      "metadata": {
        "id": "GTwkEt_Lspv8"
      },
      "execution_count": null,
      "outputs": []
    },
    {
      "cell_type": "code",
      "source": [
        "df_concat.isnull().sum()"
      ],
      "metadata": {
        "colab": {
          "base_uri": "https://localhost:8080/"
        },
        "id": "XgoiIwueH6f9",
        "outputId": "cbf39b83-2844-4f8c-d649-89fbef3d282b"
      },
      "execution_count": null,
      "outputs": [
        {
          "output_type": "execute_result",
          "data": {
            "text/plain": [
              "Căn            1\n",
              "Tên NK         1\n",
              "SDT           40\n",
              "Email         31\n",
              "Quan hệ    10534\n",
              "dtype: int64"
            ]
          },
          "metadata": {},
          "execution_count": 160
        }
      ]
    },
    {
      "cell_type": "markdown",
      "source": [
        "## 3. Processing data."
      ],
      "metadata": {
        "id": "gP15hbw8-TZZ"
      }
    },
    {
      "cell_type": "markdown",
      "source": [
        "### 3.1 Processin null data."
      ],
      "metadata": {
        "id": "yQbAChjyNzD-"
      }
    },
    {
      "cell_type": "code",
      "source": [
        "df_concat.columns\n"
      ],
      "metadata": {
        "colab": {
          "base_uri": "https://localhost:8080/"
        },
        "id": "DhrmyyPh9uOP",
        "outputId": "29be1655-b379-4e6e-b995-5100c6f07d29"
      },
      "execution_count": null,
      "outputs": [
        {
          "output_type": "execute_result",
          "data": {
            "text/plain": [
              "Index(['Căn', 'Tên NK', 'SDT', 'Email', 'Quan hệ'], dtype='object')"
            ]
          },
          "metadata": {},
          "execution_count": 161
        }
      ]
    },
    {
      "cell_type": "code",
      "source": [
        "# Lấy các cột cần dùng.\n",
        "df=df_concat[['Căn', 'Tên NK', 'SDT', 'Email']]"
      ],
      "metadata": {
        "id": "maO_4PcJ-kGW"
      },
      "execution_count": null,
      "outputs": []
    },
    {
      "cell_type": "code",
      "source": [
        "# Check giá trị trùng lặp.\n",
        "len(df['Căn'].unique())"
      ],
      "metadata": {
        "colab": {
          "base_uri": "https://localhost:8080/"
        },
        "id": "F9gvFdOu-vBu",
        "outputId": "c27c7844-5065-4876-aa38-bd64b5511cdd"
      },
      "execution_count": null,
      "outputs": [
        {
          "output_type": "execute_result",
          "data": {
            "text/plain": [
              "10809"
            ]
          },
          "metadata": {},
          "execution_count": 163
        }
      ]
    },
    {
      "cell_type": "code",
      "source": [
        "# Xóa các gì trùng lặp.\n",
        "df = df.drop_duplicates(subset=['Căn'], keep='first')"
      ],
      "metadata": {
        "id": "sykuXyDL-vlW"
      },
      "execution_count": null,
      "outputs": []
    },
    {
      "cell_type": "code",
      "source": [
        "# Thay thế các SDT không có\n",
        "df=df.replace({';': None,  ';.': None,  '.': None,})"
      ],
      "metadata": {
        "id": "LZP-Zq-EMLfM"
      },
      "execution_count": null,
      "outputs": []
    },
    {
      "cell_type": "code",
      "source": [
        "# Thay thế các khách hàng không có email bằng giá trị trống.\n",
        "df['Email'].fillna(\"Trống\",inplace = True)"
      ],
      "metadata": {
        "id": "h0z2TfP6OUXd"
      },
      "execution_count": null,
      "outputs": []
    },
    {
      "cell_type": "code",
      "source": [
        "# Check null again \n",
        "df = df.dropna(subset=['Căn','Tên NK' ,'SDT'])\n",
        "df.isnull().sum()"
      ],
      "metadata": {
        "colab": {
          "base_uri": "https://localhost:8080/"
        },
        "id": "f0gij_qdLEFq",
        "outputId": "e1f02636-14f5-40e1-ebcf-285c9b0657b9"
      },
      "execution_count": null,
      "outputs": [
        {
          "output_type": "execute_result",
          "data": {
            "text/plain": [
              "Căn       0\n",
              "Tên NK    0\n",
              "SDT       0\n",
              "Email     0\n",
              "dtype: int64"
            ]
          },
          "metadata": {},
          "execution_count": 167
        }
      ]
    },
    {
      "cell_type": "markdown",
      "source": [
        "### 3.1 Xử lý tên NK."
      ],
      "metadata": {
        "id": "uDI4Zm6PPVkd"
      }
    },
    {
      "cell_type": "code",
      "source": [
        "# Xử lý Tên NK. \n",
        "df['Tên NK'] = df['Tên NK'].str.title()"
      ],
      "metadata": {
        "id": "FhedAbvrAmDU"
      },
      "execution_count": null,
      "outputs": []
    },
    {
      "cell_type": "markdown",
      "source": [
        "### 3.2 Xử lý SDT."
      ],
      "metadata": {
        "id": "eLPz2CPgPZKT"
      }
    },
    {
      "cell_type": "code",
      "source": [
        "import re\n",
        "\n",
        "def format_phone_numbers(phone_numbers):\n",
        "    \"\"\"\n",
        "    Chuyển đổi các số điện thoại thành định dạng chuẩn.\n",
        "    \"\"\"\n",
        "    # Loại bỏ các khoảng trắng và ký tự không cần thiết\n",
        "    phone_numbers = re.sub('[^0-9;+]', '', phone_numbers)\n",
        "    \n",
        "    # Chuyển đổi các số điện thoại thành định dạng chuẩn\n",
        "    formatted_numbers = []\n",
        "    for phone_number in phone_numbers.split(';'):\n",
        "        if phone_number.startswith('+'):\n",
        "            formatted_numbers.append(phone_number)\n",
        "        elif len(phone_number) == 10:\n",
        "            formatted_numbers.append('+84' + phone_number[1:])\n",
        "        elif len(phone_number) == 11 and phone_number.startswith('0'):\n",
        "            formatted_numbers.append('+84' + phone_number[1:])\n",
        "        elif len(phone_number) == 0:\n",
        "            formatted_numbers = formatted_numbers\n",
        "        else:\n",
        "            formatted_numbers.append(phone_number)\n",
        "    formatted_numbers = list(set(formatted_numbers))\n",
        "    # Kiểm tra độ dài của phần tử hiện tại\n",
        "    if len(formatted_numbers) < 3:\n",
        "        # Thêm các giá trị 0 vào cuối phần tử để đạt độ dài bằng 5\n",
        "        formatted_numbers += [''] * (3 - len(formatted_numbers))\n",
        "    elif len(formatted_numbers) > 3:\n",
        "        # Nếu phần tử có độ dài lớn hơn 3, thì cắt bớt đến độ dài 3\n",
        "        formatted_numbers = formatted_numbers[:3]\n",
        "\n",
        "    #return len(formatted_numbers)\n",
        "    # Ghép các số điện thoại thành một chuỗi ngăn cách bằng dấu ';'\n",
        "    return ';'.join(formatted_numbers)"
      ],
      "metadata": {
        "id": "0lngk956Al7j"
      },
      "execution_count": null,
      "outputs": []
    },
    {
      "cell_type": "code",
      "source": [
        "format_phone_numbers('0908638698;01234566322')"
      ],
      "metadata": {
        "colab": {
          "base_uri": "https://localhost:8080/",
          "height": 35
        },
        "id": "Cq-wQkVeXpjF",
        "outputId": "1aac542e-ef92-46d7-acad-5a96834e05ed"
      },
      "execution_count": null,
      "outputs": [
        {
          "output_type": "execute_result",
          "data": {
            "text/plain": [
              "'+841234566322;+84908638698;'"
            ],
            "application/vnd.google.colaboratory.intrinsic+json": {
              "type": "string"
            }
          },
          "metadata": {},
          "execution_count": 151
        }
      ]
    },
    {
      "cell_type": "code",
      "source": [
        "df_copy = df"
      ],
      "metadata": {
        "id": "WPhuqWSKSNzW"
      },
      "execution_count": null,
      "outputs": []
    },
    {
      "cell_type": "code",
      "source": [
        "# Tạo một cột mới để chứa các số điện thoại đúng định dạng\n",
        "df_copy['SDT'] = df_copy['SDT'].apply(format_phone_numbers)"
      ],
      "metadata": {
        "id": "h_SwKk4hLXhX"
      },
      "execution_count": null,
      "outputs": []
    },
    {
      "cell_type": "code",
      "source": [
        "df_copy[['SDT_1', 'SDT_2', 'SDT_3']] = df_copy['SDT'].str.split(';',expand=True)"
      ],
      "metadata": {
        "id": "JLe7VzqmWIA0"
      },
      "execution_count": null,
      "outputs": []
    },
    {
      "cell_type": "code",
      "source": [
        "df_copy.to_excel('/content/drive/MyDrive/Data/Raw_data/Vinhiomes/test_1.xlsx', index=False)"
      ],
      "metadata": {
        "id": "jbyx3-Q2_GKM"
      },
      "execution_count": null,
      "outputs": []
    }
  ]
}