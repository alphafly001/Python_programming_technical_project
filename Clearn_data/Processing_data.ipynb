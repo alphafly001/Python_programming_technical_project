{
  "cells": [
    {
      "cell_type": "code",
      "source": [
        "import pandas as pd"
      ],
      "metadata": {
        "id": "w0vwYkC9RpvT"
      },
      "execution_count": null,
      "outputs": []
    },
    {
      "cell_type": "markdown",
      "source": [
        "## Read file database from google sheets."
      ],
      "metadata": {
        "id": "7OwGpbzeSxnK"
      }
    },
    {
      "cell_type": "code",
      "source": [
        "from google.colab import auth\n",
        "auth.authenticate_user()\n",
        "\n",
        "import gspread\n",
        "from google.auth import default\n",
        "creds, _ = default()\n",
        "\n",
        "gc = gspread.authorize(creds)"
      ],
      "metadata": {
        "id": "SxP8HIf5PYkP"
      },
      "execution_count": null,
      "outputs": []
    },
    {
      "cell_type": "markdown",
      "source": [
        "### Read CAN_HO dataset."
      ],
      "metadata": {
        "id": "eE2ioqp2AtjF"
      }
    },
    {
      "cell_type": "code",
      "source": [
        "worksheet = gc.open_by_url('https://docs.google.com/spreadsheets/d/1qgcNjlO3h8SDn1mYJZjF5obfdxMkO2dMVqiNn4AHpFA/edit#gid=0').get_worksheet(0)"
      ],
      "metadata": {
        "id": "AsBjf0wGQJXH"
      },
      "execution_count": null,
      "outputs": []
    },
    {
      "cell_type": "code",
      "source": [
        "rows = worksheet.get_all_values()\n",
        "can_ho = pd.DataFrame.from_records(rows[1:], columns=rows[0])"
      ],
      "metadata": {
        "id": "0rLgmirjRfT2"
      },
      "execution_count": null,
      "outputs": []
    },
    {
      "cell_type": "code",
      "source": [
        "can_ho.columns"
      ],
      "metadata": {
        "colab": {
          "base_uri": "https://localhost:8080/"
        },
        "id": "K7LscDUjSEr8",
        "outputId": "03869536-62e1-40c9-83ac-2aa4130b951d"
      },
      "execution_count": null,
      "outputs": [
        {
          "output_type": "execute_result",
          "data": {
            "text/plain": [
              "Index(['id_can_ho', 'du_an', 'loai_can_ho', 'ma_can', 'nhu_cau',\n",
              "       'tinh_hinh_can_ho', 'gia_can_ho', 'ghi_chu', 'thoi_han_hop_dong_thue',\n",
              "       'view', 'dien_tich', 'noi_that', 'thue_phi', 'tinh_trang_cuoc_goi',\n",
              "       'id_nhan_su', 'nhan_vien', 'thoi_gian_cap_nhat', 'thai_do_chu_nha',\n",
              "       'thoi_gian_don_vo', 'so_dien_thoai', 'ho_ten_chu_ho', 'file',\n",
              "       'thoi_gian_di_xem', 'ghi_am_full', 'ghi_am_chu_nha',\n",
              "       'nhan_vien_cap_nhat_bot', 'thoi_gian_cap_nhat_bot', 'gia_ban',\n",
              "       'gia_thue', 'phi_quan_ly', 'ro_hang', 'Thông Tin Căn Hộ',\n",
              "       'Thông Tin Cuộc Gọi', 'nghe_may_gan_nhat', 'id_sale_hop_tac',\n",
              "       'ro_hang_lk'],\n",
              "      dtype='object')"
            ]
          },
          "metadata": {},
          "execution_count": 18
        }
      ]
    },
    {
      "cell_type": "code",
      "source": [
        "can_"
      ],
      "metadata": {
        "id": "ERObydmTzqDn"
      },
      "execution_count": null,
      "outputs": []
    },
    {
      "cell_type": "code",
      "source": [],
      "metadata": {
        "id": "-2k8thmIzqCr"
      },
      "execution_count": null,
      "outputs": []
    },
    {
      "cell_type": "code",
      "source": [
        "can_ho.dtypes"
      ],
      "metadata": {
        "colab": {
          "base_uri": "https://localhost:8080/",
          "height": 169
        },
        "id": "BUKQj7gfxaZJ",
        "outputId": "397ec35b-efa8-4190-93ff-e8e80593a273"
      },
      "execution_count": null,
      "outputs": [
        {
          "output_type": "error",
          "ename": "NameError",
          "evalue": "ignored",
          "traceback": [
            "\u001b[0;31m---------------------------------------------------------------------------\u001b[0m",
            "\u001b[0;31mNameError\u001b[0m                                 Traceback (most recent call last)",
            "\u001b[0;32m<ipython-input-1-722d25d13c4f>\u001b[0m in \u001b[0;36m<cell line: 1>\u001b[0;34m()\u001b[0m\n\u001b[0;32m----> 1\u001b[0;31m \u001b[0mcan_ho\u001b[0m\u001b[0;34m.\u001b[0m\u001b[0mdtypes\u001b[0m\u001b[0;34m\u001b[0m\u001b[0;34m\u001b[0m\u001b[0m\n\u001b[0m",
            "\u001b[0;31mNameError\u001b[0m: name 'can_ho' is not defined"
          ]
        }
      ]
    },
    {
      "cell_type": "code",
      "source": [
        "can_ho.infer_objects().dtypes"
      ],
      "metadata": {
        "colab": {
          "base_uri": "https://localhost:8080/"
        },
        "id": "-_Y6BgmF-7Zz",
        "outputId": "915ee80b-357a-4e14-e275-b425a1609c43"
      },
      "execution_count": null,
      "outputs": [
        {
          "output_type": "execute_result",
          "data": {
            "text/plain": [
              "id_can_ho                 object\n",
              "du_an                     object\n",
              "loai_can_ho               object\n",
              "ma_can                    object\n",
              "nhu_cau                   object\n",
              "tinh_hinh_can_ho          object\n",
              "gia_can_ho                object\n",
              "ghi_chu                   object\n",
              "thoi_han_hop_dong_thue    object\n",
              "view                      object\n",
              "dien_tich                 object\n",
              "noi_that                  object\n",
              "thue_phi                  object\n",
              "tinh_trang_cuoc_goi       object\n",
              "id_nhan_su                object\n",
              "nhan_vien                 object\n",
              "thoi_gian_cap_nhat        object\n",
              "thai_do_chu_nha           object\n",
              "thoi_gian_don_vo          object\n",
              "so_dien_thoai             object\n",
              "ho_ten_chu_ho             object\n",
              "file                      object\n",
              "thoi_gian_di_xem          object\n",
              "ghi_am_full               object\n",
              "ghi_am_chu_nha            object\n",
              "nhan_vien_cap_nhat_bot    object\n",
              "thoi_gian_cap_nhat_bot    object\n",
              "gia_ban                   object\n",
              "gia_thue                  object\n",
              "phi_quan_ly               object\n",
              "ro_hang                   object\n",
              "Thông Tin Căn Hộ          object\n",
              "Thông Tin Cuộc Gọi        object\n",
              "nghe_may_gan_nhat         object\n",
              "id_sale_hop_tac           object\n",
              "ro_hang_lk                object\n",
              "dtype: object"
            ]
          },
          "metadata": {},
          "execution_count": 23
        }
      ]
    },
    {
      "cell_type": "markdown",
      "source": [
        "### Read CHU_HO dataset."
      ],
      "metadata": {
        "id": "AvdUa_waA-W0"
      }
    },
    {
      "cell_type": "code",
      "source": [
        "worksheet = gc.open_by_url('https://docs.google.com/spreadsheets/d/1qgcNjlO3h8SDn1mYJZjF5obfdxMkO2dMVqiNn4AHpFA/edit#gid=0').get_worksheet(2)"
      ],
      "metadata": {
        "id": "4AD1mKX2A-W0"
      },
      "execution_count": null,
      "outputs": []
    },
    {
      "cell_type": "code",
      "source": [
        "rows = worksheet.get_all_values()\n",
        "chu_ho = pd.DataFrame.from_records(rows[1:], columns=rows[0])"
      ],
      "metadata": {
        "id": "3kYDf2w2A-W1"
      },
      "execution_count": null,
      "outputs": []
    },
    {
      "cell_type": "code",
      "source": [
        "chu_ho.shape"
      ],
      "metadata": {
        "colab": {
          "base_uri": "https://localhost:8080/"
        },
        "outputId": "1e33889f-64d5-4186-9132-7b758bd18ffa",
        "id": "_4cXi73YA-W2"
      },
      "execution_count": null,
      "outputs": [
        {
          "output_type": "execute_result",
          "data": {
            "text/plain": [
              "(10752, 10)"
            ]
          },
          "metadata": {},
          "execution_count": 28
        }
      ]
    },
    {
      "cell_type": "code",
      "source": [
        "chu_ho.head(5)"
      ],
      "metadata": {
        "colab": {
          "base_uri": "https://localhost:8080/",
          "height": 285
        },
        "outputId": "9aaddf9d-cee7-43bc-88e8-17a3490d3cb6",
        "id": "nIq6--AYA-W2"
      },
      "execution_count": null,
      "outputs": [
        {
          "output_type": "execute_result",
          "data": {
            "text/plain": [
              "      id_chu_ho     id_can_ho                 ho_ten so_dien_thoai doi_tuong  \\\n",
              "0  CNH_ykjo4Lm9  CHO_HC6Dre98        Nguyễn Thị Ngọc  +84903320688             \n",
              "1  CNH_EpXVcl4k  CHO_0Xk2oMqN          Vũ Thanh Thái  +84703033838             \n",
              "2  CNH_O7nVZh5G  CHO_0Xk2oMqN          Vũ Thanh Thái  +84918900995             \n",
              "3  CNH_M8o6yar6  CHO_wofiAlaI  Nguyễn Nữ Uyên Phương  +84932892897             \n",
              "4  CNH_3qdSjsvE  CHO_wofiAlaI  Nguyễn Nữ Uyên Phương  +84936335415             \n",
              "\n",
              "               email_chu_ho facebook zalo trang_thai   nha_mang  \n",
              "0  cannguyenvan62@yahoo.com                            Mobifone  \n",
              "1     dvthanh1955@gmail.com                           Vinaphone  \n",
              "2     dvthanh1955@gmail.com                           Vinaphone  \n",
              "3   uyenphuog1012@gmail.com                            Mobifone  \n",
              "4   uyenphuog1012@gmail.com                            Mobifone  "
            ],
            "text/html": [
              "\n",
              "  <div id=\"df-4bf67fef-de23-42eb-bb92-f8084f19e9d9\">\n",
              "    <div class=\"colab-df-container\">\n",
              "      <div>\n",
              "<style scoped>\n",
              "    .dataframe tbody tr th:only-of-type {\n",
              "        vertical-align: middle;\n",
              "    }\n",
              "\n",
              "    .dataframe tbody tr th {\n",
              "        vertical-align: top;\n",
              "    }\n",
              "\n",
              "    .dataframe thead th {\n",
              "        text-align: right;\n",
              "    }\n",
              "</style>\n",
              "<table border=\"1\" class=\"dataframe\">\n",
              "  <thead>\n",
              "    <tr style=\"text-align: right;\">\n",
              "      <th></th>\n",
              "      <th>id_chu_ho</th>\n",
              "      <th>id_can_ho</th>\n",
              "      <th>ho_ten</th>\n",
              "      <th>so_dien_thoai</th>\n",
              "      <th>doi_tuong</th>\n",
              "      <th>email_chu_ho</th>\n",
              "      <th>facebook</th>\n",
              "      <th>zalo</th>\n",
              "      <th>trang_thai</th>\n",
              "      <th>nha_mang</th>\n",
              "    </tr>\n",
              "  </thead>\n",
              "  <tbody>\n",
              "    <tr>\n",
              "      <th>0</th>\n",
              "      <td>CNH_ykjo4Lm9</td>\n",
              "      <td>CHO_HC6Dre98</td>\n",
              "      <td>Nguyễn Thị Ngọc</td>\n",
              "      <td>+84903320688</td>\n",
              "      <td></td>\n",
              "      <td>cannguyenvan62@yahoo.com</td>\n",
              "      <td></td>\n",
              "      <td></td>\n",
              "      <td></td>\n",
              "      <td>Mobifone</td>\n",
              "    </tr>\n",
              "    <tr>\n",
              "      <th>1</th>\n",
              "      <td>CNH_EpXVcl4k</td>\n",
              "      <td>CHO_0Xk2oMqN</td>\n",
              "      <td>Vũ Thanh Thái</td>\n",
              "      <td>+84703033838</td>\n",
              "      <td></td>\n",
              "      <td>dvthanh1955@gmail.com</td>\n",
              "      <td></td>\n",
              "      <td></td>\n",
              "      <td></td>\n",
              "      <td>Vinaphone</td>\n",
              "    </tr>\n",
              "    <tr>\n",
              "      <th>2</th>\n",
              "      <td>CNH_O7nVZh5G</td>\n",
              "      <td>CHO_0Xk2oMqN</td>\n",
              "      <td>Vũ Thanh Thái</td>\n",
              "      <td>+84918900995</td>\n",
              "      <td></td>\n",
              "      <td>dvthanh1955@gmail.com</td>\n",
              "      <td></td>\n",
              "      <td></td>\n",
              "      <td></td>\n",
              "      <td>Vinaphone</td>\n",
              "    </tr>\n",
              "    <tr>\n",
              "      <th>3</th>\n",
              "      <td>CNH_M8o6yar6</td>\n",
              "      <td>CHO_wofiAlaI</td>\n",
              "      <td>Nguyễn Nữ Uyên Phương</td>\n",
              "      <td>+84932892897</td>\n",
              "      <td></td>\n",
              "      <td>uyenphuog1012@gmail.com</td>\n",
              "      <td></td>\n",
              "      <td></td>\n",
              "      <td></td>\n",
              "      <td>Mobifone</td>\n",
              "    </tr>\n",
              "    <tr>\n",
              "      <th>4</th>\n",
              "      <td>CNH_3qdSjsvE</td>\n",
              "      <td>CHO_wofiAlaI</td>\n",
              "      <td>Nguyễn Nữ Uyên Phương</td>\n",
              "      <td>+84936335415</td>\n",
              "      <td></td>\n",
              "      <td>uyenphuog1012@gmail.com</td>\n",
              "      <td></td>\n",
              "      <td></td>\n",
              "      <td></td>\n",
              "      <td>Mobifone</td>\n",
              "    </tr>\n",
              "  </tbody>\n",
              "</table>\n",
              "</div>\n",
              "      <button class=\"colab-df-convert\" onclick=\"convertToInteractive('df-4bf67fef-de23-42eb-bb92-f8084f19e9d9')\"\n",
              "              title=\"Convert this dataframe to an interactive table.\"\n",
              "              style=\"display:none;\">\n",
              "        \n",
              "  <svg xmlns=\"http://www.w3.org/2000/svg\" height=\"24px\"viewBox=\"0 0 24 24\"\n",
              "       width=\"24px\">\n",
              "    <path d=\"M0 0h24v24H0V0z\" fill=\"none\"/>\n",
              "    <path d=\"M18.56 5.44l.94 2.06.94-2.06 2.06-.94-2.06-.94-.94-2.06-.94 2.06-2.06.94zm-11 1L8.5 8.5l.94-2.06 2.06-.94-2.06-.94L8.5 2.5l-.94 2.06-2.06.94zm10 10l.94 2.06.94-2.06 2.06-.94-2.06-.94-.94-2.06-.94 2.06-2.06.94z\"/><path d=\"M17.41 7.96l-1.37-1.37c-.4-.4-.92-.59-1.43-.59-.52 0-1.04.2-1.43.59L10.3 9.45l-7.72 7.72c-.78.78-.78 2.05 0 2.83L4 21.41c.39.39.9.59 1.41.59.51 0 1.02-.2 1.41-.59l7.78-7.78 2.81-2.81c.8-.78.8-2.07 0-2.86zM5.41 20L4 18.59l7.72-7.72 1.47 1.35L5.41 20z\"/>\n",
              "  </svg>\n",
              "      </button>\n",
              "      \n",
              "  <style>\n",
              "    .colab-df-container {\n",
              "      display:flex;\n",
              "      flex-wrap:wrap;\n",
              "      gap: 12px;\n",
              "    }\n",
              "\n",
              "    .colab-df-convert {\n",
              "      background-color: #E8F0FE;\n",
              "      border: none;\n",
              "      border-radius: 50%;\n",
              "      cursor: pointer;\n",
              "      display: none;\n",
              "      fill: #1967D2;\n",
              "      height: 32px;\n",
              "      padding: 0 0 0 0;\n",
              "      width: 32px;\n",
              "    }\n",
              "\n",
              "    .colab-df-convert:hover {\n",
              "      background-color: #E2EBFA;\n",
              "      box-shadow: 0px 1px 2px rgba(60, 64, 67, 0.3), 0px 1px 3px 1px rgba(60, 64, 67, 0.15);\n",
              "      fill: #174EA6;\n",
              "    }\n",
              "\n",
              "    [theme=dark] .colab-df-convert {\n",
              "      background-color: #3B4455;\n",
              "      fill: #D2E3FC;\n",
              "    }\n",
              "\n",
              "    [theme=dark] .colab-df-convert:hover {\n",
              "      background-color: #434B5C;\n",
              "      box-shadow: 0px 1px 3px 1px rgba(0, 0, 0, 0.15);\n",
              "      filter: drop-shadow(0px 1px 2px rgba(0, 0, 0, 0.3));\n",
              "      fill: #FFFFFF;\n",
              "    }\n",
              "  </style>\n",
              "\n",
              "      <script>\n",
              "        const buttonEl =\n",
              "          document.querySelector('#df-4bf67fef-de23-42eb-bb92-f8084f19e9d9 button.colab-df-convert');\n",
              "        buttonEl.style.display =\n",
              "          google.colab.kernel.accessAllowed ? 'block' : 'none';\n",
              "\n",
              "        async function convertToInteractive(key) {\n",
              "          const element = document.querySelector('#df-4bf67fef-de23-42eb-bb92-f8084f19e9d9');\n",
              "          const dataTable =\n",
              "            await google.colab.kernel.invokeFunction('convertToInteractive',\n",
              "                                                     [key], {});\n",
              "          if (!dataTable) return;\n",
              "\n",
              "          const docLinkHtml = 'Like what you see? Visit the ' +\n",
              "            '<a target=\"_blank\" href=https://colab.research.google.com/notebooks/data_table.ipynb>data table notebook</a>'\n",
              "            + ' to learn more about interactive tables.';\n",
              "          element.innerHTML = '';\n",
              "          dataTable['output_type'] = 'display_data';\n",
              "          await google.colab.output.renderOutput(dataTable, element);\n",
              "          const docLink = document.createElement('div');\n",
              "          docLink.innerHTML = docLinkHtml;\n",
              "          element.appendChild(docLink);\n",
              "        }\n",
              "      </script>\n",
              "    </div>\n",
              "  </div>\n",
              "  "
            ]
          },
          "metadata": {},
          "execution_count": 29
        }
      ]
    },
    {
      "cell_type": "markdown",
      "source": [
        "## Read file lake view data."
      ],
      "metadata": {
        "id": "GWUaQxVB3kVG"
      }
    },
    {
      "cell_type": "code",
      "source": [
        "data= pd.read_excel('/content/drive/MyDrive/Data/Process_Data/Lake View City Quận 2/Lake View City.xlsx')"
      ],
      "metadata": {
        "id": "g6clvq9U3oOf"
      },
      "execution_count": null,
      "outputs": []
    },
    {
      "cell_type": "code",
      "source": [
        "data.head(5)"
      ],
      "metadata": {
        "colab": {
          "base_uri": "https://localhost:8080/"
        },
        "id": "FFatDFty_I3i",
        "outputId": "8dfb4f11-dbe1-4be4-f28a-e30908a47ed2"
      },
      "execution_count": null,
      "outputs": [
        {
          "output_type": "execute_result",
          "data": {
            "text/plain": [
              "                 ho_ten so_dien_thoai    ma_can          kkhu\n",
              "0          Trần Văn Nga     913936888  CL1.1-10  central lake\n",
              "1           Dịp Mỹ Linh     968888251  CL1.2-50  central lake\n",
              "2        Nguyễn Bá Dũng     979026676  CL3.1-22  central lake\n",
              "3         Uông Xuân Thọ     982524554  CL3.1-47  central lake\n",
              "4  Nguyễn Thị Khánh Hoà     909019398  CL3.1-48  central lake"
            ],
            "text/html": [
              "\n",
              "  <div id=\"df-1518c33f-7550-4397-acdc-ee8e4f866462\">\n",
              "    <div class=\"colab-df-container\">\n",
              "      <div>\n",
              "<style scoped>\n",
              "    .dataframe tbody tr th:only-of-type {\n",
              "        vertical-align: middle;\n",
              "    }\n",
              "\n",
              "    .dataframe tbody tr th {\n",
              "        vertical-align: top;\n",
              "    }\n",
              "\n",
              "    .dataframe thead th {\n",
              "        text-align: right;\n",
              "    }\n",
              "</style>\n",
              "<table border=\"1\" class=\"dataframe\">\n",
              "  <thead>\n",
              "    <tr style=\"text-align: right;\">\n",
              "      <th></th>\n",
              "      <th>ho_ten</th>\n",
              "      <th>so_dien_thoai</th>\n",
              "      <th>ma_can</th>\n",
              "      <th>kkhu</th>\n",
              "    </tr>\n",
              "  </thead>\n",
              "  <tbody>\n",
              "    <tr>\n",
              "      <th>0</th>\n",
              "      <td>Trần Văn Nga</td>\n",
              "      <td>913936888</td>\n",
              "      <td>CL1.1-10</td>\n",
              "      <td>central lake</td>\n",
              "    </tr>\n",
              "    <tr>\n",
              "      <th>1</th>\n",
              "      <td>Dịp Mỹ Linh</td>\n",
              "      <td>968888251</td>\n",
              "      <td>CL1.2-50</td>\n",
              "      <td>central lake</td>\n",
              "    </tr>\n",
              "    <tr>\n",
              "      <th>2</th>\n",
              "      <td>Nguyễn Bá Dũng</td>\n",
              "      <td>979026676</td>\n",
              "      <td>CL3.1-22</td>\n",
              "      <td>central lake</td>\n",
              "    </tr>\n",
              "    <tr>\n",
              "      <th>3</th>\n",
              "      <td>Uông Xuân Thọ</td>\n",
              "      <td>982524554</td>\n",
              "      <td>CL3.1-47</td>\n",
              "      <td>central lake</td>\n",
              "    </tr>\n",
              "    <tr>\n",
              "      <th>4</th>\n",
              "      <td>Nguyễn Thị Khánh Hoà</td>\n",
              "      <td>909019398</td>\n",
              "      <td>CL3.1-48</td>\n",
              "      <td>central lake</td>\n",
              "    </tr>\n",
              "  </tbody>\n",
              "</table>\n",
              "</div>\n",
              "      <button class=\"colab-df-convert\" onclick=\"convertToInteractive('df-1518c33f-7550-4397-acdc-ee8e4f866462')\"\n",
              "              title=\"Convert this dataframe to an interactive table.\"\n",
              "              style=\"display:none;\">\n",
              "        \n",
              "  <svg xmlns=\"http://www.w3.org/2000/svg\" height=\"24px\"viewBox=\"0 0 24 24\"\n",
              "       width=\"24px\">\n",
              "    <path d=\"M0 0h24v24H0V0z\" fill=\"none\"/>\n",
              "    <path d=\"M18.56 5.44l.94 2.06.94-2.06 2.06-.94-2.06-.94-.94-2.06-.94 2.06-2.06.94zm-11 1L8.5 8.5l.94-2.06 2.06-.94-2.06-.94L8.5 2.5l-.94 2.06-2.06.94zm10 10l.94 2.06.94-2.06 2.06-.94-2.06-.94-.94-2.06-.94 2.06-2.06.94z\"/><path d=\"M17.41 7.96l-1.37-1.37c-.4-.4-.92-.59-1.43-.59-.52 0-1.04.2-1.43.59L10.3 9.45l-7.72 7.72c-.78.78-.78 2.05 0 2.83L4 21.41c.39.39.9.59 1.41.59.51 0 1.02-.2 1.41-.59l7.78-7.78 2.81-2.81c.8-.78.8-2.07 0-2.86zM5.41 20L4 18.59l7.72-7.72 1.47 1.35L5.41 20z\"/>\n",
              "  </svg>\n",
              "      </button>\n",
              "      \n",
              "  <style>\n",
              "    .colab-df-container {\n",
              "      display:flex;\n",
              "      flex-wrap:wrap;\n",
              "      gap: 12px;\n",
              "    }\n",
              "\n",
              "    .colab-df-convert {\n",
              "      background-color: #E8F0FE;\n",
              "      border: none;\n",
              "      border-radius: 50%;\n",
              "      cursor: pointer;\n",
              "      display: none;\n",
              "      fill: #1967D2;\n",
              "      height: 32px;\n",
              "      padding: 0 0 0 0;\n",
              "      width: 32px;\n",
              "    }\n",
              "\n",
              "    .colab-df-convert:hover {\n",
              "      background-color: #E2EBFA;\n",
              "      box-shadow: 0px 1px 2px rgba(60, 64, 67, 0.3), 0px 1px 3px 1px rgba(60, 64, 67, 0.15);\n",
              "      fill: #174EA6;\n",
              "    }\n",
              "\n",
              "    [theme=dark] .colab-df-convert {\n",
              "      background-color: #3B4455;\n",
              "      fill: #D2E3FC;\n",
              "    }\n",
              "\n",
              "    [theme=dark] .colab-df-convert:hover {\n",
              "      background-color: #434B5C;\n",
              "      box-shadow: 0px 1px 3px 1px rgba(0, 0, 0, 0.15);\n",
              "      filter: drop-shadow(0px 1px 2px rgba(0, 0, 0, 0.3));\n",
              "      fill: #FFFFFF;\n",
              "    }\n",
              "  </style>\n",
              "\n",
              "      <script>\n",
              "        const buttonEl =\n",
              "          document.querySelector('#df-1518c33f-7550-4397-acdc-ee8e4f866462 button.colab-df-convert');\n",
              "        buttonEl.style.display =\n",
              "          google.colab.kernel.accessAllowed ? 'block' : 'none';\n",
              "\n",
              "        async function convertToInteractive(key) {\n",
              "          const element = document.querySelector('#df-1518c33f-7550-4397-acdc-ee8e4f866462');\n",
              "          const dataTable =\n",
              "            await google.colab.kernel.invokeFunction('convertToInteractive',\n",
              "                                                     [key], {});\n",
              "          if (!dataTable) return;\n",
              "\n",
              "          const docLinkHtml = 'Like what you see? Visit the ' +\n",
              "            '<a target=\"_blank\" href=https://colab.research.google.com/notebooks/data_table.ipynb>data table notebook</a>'\n",
              "            + ' to learn more about interactive tables.';\n",
              "          element.innerHTML = '';\n",
              "          dataTable['output_type'] = 'display_data';\n",
              "          await google.colab.output.renderOutput(dataTable, element);\n",
              "          const docLink = document.createElement('div');\n",
              "          docLink.innerHTML = docLinkHtml;\n",
              "          element.appendChild(docLink);\n",
              "        }\n",
              "      </script>\n",
              "    </div>\n",
              "  </div>\n",
              "  "
            ]
          },
          "metadata": {},
          "execution_count": 63
        }
      ]
    },
    {
      "cell_type": "code",
      "source": [
        "data.shape"
      ],
      "metadata": {
        "colab": {
          "base_uri": "https://localhost:8080/"
        },
        "id": "8fCBOiVL_j3I",
        "outputId": "f326d643-2e5a-4d02-c390-98e2ea88a3bc"
      },
      "execution_count": null,
      "outputs": [
        {
          "output_type": "execute_result",
          "data": {
            "text/plain": [
              "(339, 4)"
            ]
          },
          "metadata": {},
          "execution_count": 64
        }
      ]
    },
    {
      "cell_type": "code",
      "source": [
        "data.loc[336]"
      ],
      "metadata": {
        "colab": {
          "base_uri": "https://localhost:8080/"
        },
        "id": "N8cQ2JB1_KdX",
        "outputId": "7abd1382-650a-4526-bde1-485b0a5d5099"
      },
      "execution_count": null,
      "outputs": [
        {
          "output_type": "execute_result",
          "data": {
            "text/plain": [
              "ho_ten           Phạm Hi Bách \\nTRần Thanh Mai\n",
              "so_dien_thoai          01279683999\\n0914182992\n",
              "ma_can                                  EL2-27\n",
              "kkhu                                       NaN\n",
              "Name: 336, dtype: object"
            ]
          },
          "metadata": {},
          "execution_count": 65
        }
      ]
    },
    {
      "cell_type": "markdown",
      "source": [
        "## Processing data."
      ],
      "metadata": {
        "id": "VMb-ZcbuAkmo"
      }
    },
    {
      "cell_type": "code",
      "source": [
        "data.head(5)"
      ],
      "metadata": {
        "colab": {
          "base_uri": "https://localhost:8080/",
          "height": 206
        },
        "id": "MXOwICO3_OHZ",
        "outputId": "d9f72525-17a1-4310-d1e6-71e8c33631e4"
      },
      "execution_count": null,
      "outputs": [
        {
          "output_type": "execute_result",
          "data": {
            "text/plain": [
              "                 ho_ten so_dien_thoai    ma_can          kkhu\n",
              "0          Trần Văn Nga     913936888  CL1.1-10  central lake\n",
              "1           Dịp Mỹ Linh     968888251  CL1.2-50  central lake\n",
              "2        Nguyễn Bá Dũng     979026676  CL3.1-22  central lake\n",
              "3         Uông Xuân Thọ     982524554  CL3.1-47  central lake\n",
              "4  Nguyễn Thị Khánh Hoà     909019398  CL3.1-48  central lake"
            ],
            "text/html": [
              "\n",
              "  <div id=\"df-d17b35ff-9784-49b6-a367-39f5070b2f4f\">\n",
              "    <div class=\"colab-df-container\">\n",
              "      <div>\n",
              "<style scoped>\n",
              "    .dataframe tbody tr th:only-of-type {\n",
              "        vertical-align: middle;\n",
              "    }\n",
              "\n",
              "    .dataframe tbody tr th {\n",
              "        vertical-align: top;\n",
              "    }\n",
              "\n",
              "    .dataframe thead th {\n",
              "        text-align: right;\n",
              "    }\n",
              "</style>\n",
              "<table border=\"1\" class=\"dataframe\">\n",
              "  <thead>\n",
              "    <tr style=\"text-align: right;\">\n",
              "      <th></th>\n",
              "      <th>ho_ten</th>\n",
              "      <th>so_dien_thoai</th>\n",
              "      <th>ma_can</th>\n",
              "      <th>kkhu</th>\n",
              "    </tr>\n",
              "  </thead>\n",
              "  <tbody>\n",
              "    <tr>\n",
              "      <th>0</th>\n",
              "      <td>Trần Văn Nga</td>\n",
              "      <td>913936888</td>\n",
              "      <td>CL1.1-10</td>\n",
              "      <td>central lake</td>\n",
              "    </tr>\n",
              "    <tr>\n",
              "      <th>1</th>\n",
              "      <td>Dịp Mỹ Linh</td>\n",
              "      <td>968888251</td>\n",
              "      <td>CL1.2-50</td>\n",
              "      <td>central lake</td>\n",
              "    </tr>\n",
              "    <tr>\n",
              "      <th>2</th>\n",
              "      <td>Nguyễn Bá Dũng</td>\n",
              "      <td>979026676</td>\n",
              "      <td>CL3.1-22</td>\n",
              "      <td>central lake</td>\n",
              "    </tr>\n",
              "    <tr>\n",
              "      <th>3</th>\n",
              "      <td>Uông Xuân Thọ</td>\n",
              "      <td>982524554</td>\n",
              "      <td>CL3.1-47</td>\n",
              "      <td>central lake</td>\n",
              "    </tr>\n",
              "    <tr>\n",
              "      <th>4</th>\n",
              "      <td>Nguyễn Thị Khánh Hoà</td>\n",
              "      <td>909019398</td>\n",
              "      <td>CL3.1-48</td>\n",
              "      <td>central lake</td>\n",
              "    </tr>\n",
              "  </tbody>\n",
              "</table>\n",
              "</div>\n",
              "      <button class=\"colab-df-convert\" onclick=\"convertToInteractive('df-d17b35ff-9784-49b6-a367-39f5070b2f4f')\"\n",
              "              title=\"Convert this dataframe to an interactive table.\"\n",
              "              style=\"display:none;\">\n",
              "        \n",
              "  <svg xmlns=\"http://www.w3.org/2000/svg\" height=\"24px\"viewBox=\"0 0 24 24\"\n",
              "       width=\"24px\">\n",
              "    <path d=\"M0 0h24v24H0V0z\" fill=\"none\"/>\n",
              "    <path d=\"M18.56 5.44l.94 2.06.94-2.06 2.06-.94-2.06-.94-.94-2.06-.94 2.06-2.06.94zm-11 1L8.5 8.5l.94-2.06 2.06-.94-2.06-.94L8.5 2.5l-.94 2.06-2.06.94zm10 10l.94 2.06.94-2.06 2.06-.94-2.06-.94-.94-2.06-.94 2.06-2.06.94z\"/><path d=\"M17.41 7.96l-1.37-1.37c-.4-.4-.92-.59-1.43-.59-.52 0-1.04.2-1.43.59L10.3 9.45l-7.72 7.72c-.78.78-.78 2.05 0 2.83L4 21.41c.39.39.9.59 1.41.59.51 0 1.02-.2 1.41-.59l7.78-7.78 2.81-2.81c.8-.78.8-2.07 0-2.86zM5.41 20L4 18.59l7.72-7.72 1.47 1.35L5.41 20z\"/>\n",
              "  </svg>\n",
              "      </button>\n",
              "      \n",
              "  <style>\n",
              "    .colab-df-container {\n",
              "      display:flex;\n",
              "      flex-wrap:wrap;\n",
              "      gap: 12px;\n",
              "    }\n",
              "\n",
              "    .colab-df-convert {\n",
              "      background-color: #E8F0FE;\n",
              "      border: none;\n",
              "      border-radius: 50%;\n",
              "      cursor: pointer;\n",
              "      display: none;\n",
              "      fill: #1967D2;\n",
              "      height: 32px;\n",
              "      padding: 0 0 0 0;\n",
              "      width: 32px;\n",
              "    }\n",
              "\n",
              "    .colab-df-convert:hover {\n",
              "      background-color: #E2EBFA;\n",
              "      box-shadow: 0px 1px 2px rgba(60, 64, 67, 0.3), 0px 1px 3px 1px rgba(60, 64, 67, 0.15);\n",
              "      fill: #174EA6;\n",
              "    }\n",
              "\n",
              "    [theme=dark] .colab-df-convert {\n",
              "      background-color: #3B4455;\n",
              "      fill: #D2E3FC;\n",
              "    }\n",
              "\n",
              "    [theme=dark] .colab-df-convert:hover {\n",
              "      background-color: #434B5C;\n",
              "      box-shadow: 0px 1px 3px 1px rgba(0, 0, 0, 0.15);\n",
              "      filter: drop-shadow(0px 1px 2px rgba(0, 0, 0, 0.3));\n",
              "      fill: #FFFFFF;\n",
              "    }\n",
              "  </style>\n",
              "\n",
              "      <script>\n",
              "        const buttonEl =\n",
              "          document.querySelector('#df-d17b35ff-9784-49b6-a367-39f5070b2f4f button.colab-df-convert');\n",
              "        buttonEl.style.display =\n",
              "          google.colab.kernel.accessAllowed ? 'block' : 'none';\n",
              "\n",
              "        async function convertToInteractive(key) {\n",
              "          const element = document.querySelector('#df-d17b35ff-9784-49b6-a367-39f5070b2f4f');\n",
              "          const dataTable =\n",
              "            await google.colab.kernel.invokeFunction('convertToInteractive',\n",
              "                                                     [key], {});\n",
              "          if (!dataTable) return;\n",
              "\n",
              "          const docLinkHtml = 'Like what you see? Visit the ' +\n",
              "            '<a target=\"_blank\" href=https://colab.research.google.com/notebooks/data_table.ipynb>data table notebook</a>'\n",
              "            + ' to learn more about interactive tables.';\n",
              "          element.innerHTML = '';\n",
              "          dataTable['output_type'] = 'display_data';\n",
              "          await google.colab.output.renderOutput(dataTable, element);\n",
              "          const docLink = document.createElement('div');\n",
              "          docLink.innerHTML = docLinkHtml;\n",
              "          element.appendChild(docLink);\n",
              "        }\n",
              "      </script>\n",
              "    </div>\n",
              "  </div>\n",
              "  "
            ]
          },
          "metadata": {},
          "execution_count": 66
        }
      ]
    },
    {
      "cell_type": "code",
      "source": [
        "data['du_can']='Lake View City'"
      ],
      "metadata": {
        "id": "XRgHFYw3BYFY"
      },
      "execution_count": null,
      "outputs": []
    },
    {
      "cell_type": "code",
      "source": [
        "data.head(5)"
      ],
      "metadata": {
        "colab": {
          "base_uri": "https://localhost:8080/",
          "height": 206
        },
        "id": "bZTA9iSlBqyn",
        "outputId": "b2e036ea-5181-4d0b-d5fa-12450496070e"
      },
      "execution_count": null,
      "outputs": [
        {
          "output_type": "execute_result",
          "data": {
            "text/plain": [
              "                 ho_ten so_dien_thoai    ma_can          kkhu          du_can\n",
              "0          Trần Văn Nga     913936888  CL1.1-10  central lake  Lake View City\n",
              "1           Dịp Mỹ Linh     968888251  CL1.2-50  central lake  Lake View City\n",
              "2        Nguyễn Bá Dũng     979026676  CL3.1-22  central lake  Lake View City\n",
              "3         Uông Xuân Thọ     982524554  CL3.1-47  central lake  Lake View City\n",
              "4  Nguyễn Thị Khánh Hoà     909019398  CL3.1-48  central lake  Lake View City"
            ],
            "text/html": [
              "\n",
              "  <div id=\"df-cd034800-364c-4574-bb1d-4e2ed46005b7\">\n",
              "    <div class=\"colab-df-container\">\n",
              "      <div>\n",
              "<style scoped>\n",
              "    .dataframe tbody tr th:only-of-type {\n",
              "        vertical-align: middle;\n",
              "    }\n",
              "\n",
              "    .dataframe tbody tr th {\n",
              "        vertical-align: top;\n",
              "    }\n",
              "\n",
              "    .dataframe thead th {\n",
              "        text-align: right;\n",
              "    }\n",
              "</style>\n",
              "<table border=\"1\" class=\"dataframe\">\n",
              "  <thead>\n",
              "    <tr style=\"text-align: right;\">\n",
              "      <th></th>\n",
              "      <th>ho_ten</th>\n",
              "      <th>so_dien_thoai</th>\n",
              "      <th>ma_can</th>\n",
              "      <th>kkhu</th>\n",
              "      <th>du_can</th>\n",
              "    </tr>\n",
              "  </thead>\n",
              "  <tbody>\n",
              "    <tr>\n",
              "      <th>0</th>\n",
              "      <td>Trần Văn Nga</td>\n",
              "      <td>913936888</td>\n",
              "      <td>CL1.1-10</td>\n",
              "      <td>central lake</td>\n",
              "      <td>Lake View City</td>\n",
              "    </tr>\n",
              "    <tr>\n",
              "      <th>1</th>\n",
              "      <td>Dịp Mỹ Linh</td>\n",
              "      <td>968888251</td>\n",
              "      <td>CL1.2-50</td>\n",
              "      <td>central lake</td>\n",
              "      <td>Lake View City</td>\n",
              "    </tr>\n",
              "    <tr>\n",
              "      <th>2</th>\n",
              "      <td>Nguyễn Bá Dũng</td>\n",
              "      <td>979026676</td>\n",
              "      <td>CL3.1-22</td>\n",
              "      <td>central lake</td>\n",
              "      <td>Lake View City</td>\n",
              "    </tr>\n",
              "    <tr>\n",
              "      <th>3</th>\n",
              "      <td>Uông Xuân Thọ</td>\n",
              "      <td>982524554</td>\n",
              "      <td>CL3.1-47</td>\n",
              "      <td>central lake</td>\n",
              "      <td>Lake View City</td>\n",
              "    </tr>\n",
              "    <tr>\n",
              "      <th>4</th>\n",
              "      <td>Nguyễn Thị Khánh Hoà</td>\n",
              "      <td>909019398</td>\n",
              "      <td>CL3.1-48</td>\n",
              "      <td>central lake</td>\n",
              "      <td>Lake View City</td>\n",
              "    </tr>\n",
              "  </tbody>\n",
              "</table>\n",
              "</div>\n",
              "      <button class=\"colab-df-convert\" onclick=\"convertToInteractive('df-cd034800-364c-4574-bb1d-4e2ed46005b7')\"\n",
              "              title=\"Convert this dataframe to an interactive table.\"\n",
              "              style=\"display:none;\">\n",
              "        \n",
              "  <svg xmlns=\"http://www.w3.org/2000/svg\" height=\"24px\"viewBox=\"0 0 24 24\"\n",
              "       width=\"24px\">\n",
              "    <path d=\"M0 0h24v24H0V0z\" fill=\"none\"/>\n",
              "    <path d=\"M18.56 5.44l.94 2.06.94-2.06 2.06-.94-2.06-.94-.94-2.06-.94 2.06-2.06.94zm-11 1L8.5 8.5l.94-2.06 2.06-.94-2.06-.94L8.5 2.5l-.94 2.06-2.06.94zm10 10l.94 2.06.94-2.06 2.06-.94-2.06-.94-.94-2.06-.94 2.06-2.06.94z\"/><path d=\"M17.41 7.96l-1.37-1.37c-.4-.4-.92-.59-1.43-.59-.52 0-1.04.2-1.43.59L10.3 9.45l-7.72 7.72c-.78.78-.78 2.05 0 2.83L4 21.41c.39.39.9.59 1.41.59.51 0 1.02-.2 1.41-.59l7.78-7.78 2.81-2.81c.8-.78.8-2.07 0-2.86zM5.41 20L4 18.59l7.72-7.72 1.47 1.35L5.41 20z\"/>\n",
              "  </svg>\n",
              "      </button>\n",
              "      \n",
              "  <style>\n",
              "    .colab-df-container {\n",
              "      display:flex;\n",
              "      flex-wrap:wrap;\n",
              "      gap: 12px;\n",
              "    }\n",
              "\n",
              "    .colab-df-convert {\n",
              "      background-color: #E8F0FE;\n",
              "      border: none;\n",
              "      border-radius: 50%;\n",
              "      cursor: pointer;\n",
              "      display: none;\n",
              "      fill: #1967D2;\n",
              "      height: 32px;\n",
              "      padding: 0 0 0 0;\n",
              "      width: 32px;\n",
              "    }\n",
              "\n",
              "    .colab-df-convert:hover {\n",
              "      background-color: #E2EBFA;\n",
              "      box-shadow: 0px 1px 2px rgba(60, 64, 67, 0.3), 0px 1px 3px 1px rgba(60, 64, 67, 0.15);\n",
              "      fill: #174EA6;\n",
              "    }\n",
              "\n",
              "    [theme=dark] .colab-df-convert {\n",
              "      background-color: #3B4455;\n",
              "      fill: #D2E3FC;\n",
              "    }\n",
              "\n",
              "    [theme=dark] .colab-df-convert:hover {\n",
              "      background-color: #434B5C;\n",
              "      box-shadow: 0px 1px 3px 1px rgba(0, 0, 0, 0.15);\n",
              "      filter: drop-shadow(0px 1px 2px rgba(0, 0, 0, 0.3));\n",
              "      fill: #FFFFFF;\n",
              "    }\n",
              "  </style>\n",
              "\n",
              "      <script>\n",
              "        const buttonEl =\n",
              "          document.querySelector('#df-cd034800-364c-4574-bb1d-4e2ed46005b7 button.colab-df-convert');\n",
              "        buttonEl.style.display =\n",
              "          google.colab.kernel.accessAllowed ? 'block' : 'none';\n",
              "\n",
              "        async function convertToInteractive(key) {\n",
              "          const element = document.querySelector('#df-cd034800-364c-4574-bb1d-4e2ed46005b7');\n",
              "          const dataTable =\n",
              "            await google.colab.kernel.invokeFunction('convertToInteractive',\n",
              "                                                     [key], {});\n",
              "          if (!dataTable) return;\n",
              "\n",
              "          const docLinkHtml = 'Like what you see? Visit the ' +\n",
              "            '<a target=\"_blank\" href=https://colab.research.google.com/notebooks/data_table.ipynb>data table notebook</a>'\n",
              "            + ' to learn more about interactive tables.';\n",
              "          element.innerHTML = '';\n",
              "          dataTable['output_type'] = 'display_data';\n",
              "          await google.colab.output.renderOutput(dataTable, element);\n",
              "          const docLink = document.createElement('div');\n",
              "          docLink.innerHTML = docLinkHtml;\n",
              "          element.appendChild(docLink);\n",
              "        }\n",
              "      </script>\n",
              "    </div>\n",
              "  </div>\n",
              "  "
            ]
          },
          "metadata": {},
          "execution_count": 68
        }
      ]
    },
    {
      "cell_type": "code",
      "source": [
        "data = data.drop(data.columns[3], axis=1)"
      ],
      "metadata": {
        "id": "EfDODBFtBsB3"
      },
      "execution_count": null,
      "outputs": []
    },
    {
      "cell_type": "code",
      "source": [
        "data.head(5)"
      ],
      "metadata": {
        "colab": {
          "base_uri": "https://localhost:8080/",
          "height": 206
        },
        "id": "SJEiuvm4CMOI",
        "outputId": "88c153eb-b931-4165-b27f-3f9b3410c0ee"
      },
      "execution_count": null,
      "outputs": [
        {
          "output_type": "execute_result",
          "data": {
            "text/plain": [
              "                 ho_ten so_dien_thoai    ma_can          du_can\n",
              "0          Trần Văn Nga     913936888  CL1.1-10  Lake View City\n",
              "1           Dịp Mỹ Linh     968888251  CL1.2-50  Lake View City\n",
              "2        Nguyễn Bá Dũng     979026676  CL3.1-22  Lake View City\n",
              "3         Uông Xuân Thọ     982524554  CL3.1-47  Lake View City\n",
              "4  Nguyễn Thị Khánh Hoà     909019398  CL3.1-48  Lake View City"
            ],
            "text/html": [
              "\n",
              "  <div id=\"df-22fc6f31-24e5-464e-b415-a08610822f79\">\n",
              "    <div class=\"colab-df-container\">\n",
              "      <div>\n",
              "<style scoped>\n",
              "    .dataframe tbody tr th:only-of-type {\n",
              "        vertical-align: middle;\n",
              "    }\n",
              "\n",
              "    .dataframe tbody tr th {\n",
              "        vertical-align: top;\n",
              "    }\n",
              "\n",
              "    .dataframe thead th {\n",
              "        text-align: right;\n",
              "    }\n",
              "</style>\n",
              "<table border=\"1\" class=\"dataframe\">\n",
              "  <thead>\n",
              "    <tr style=\"text-align: right;\">\n",
              "      <th></th>\n",
              "      <th>ho_ten</th>\n",
              "      <th>so_dien_thoai</th>\n",
              "      <th>ma_can</th>\n",
              "      <th>du_can</th>\n",
              "    </tr>\n",
              "  </thead>\n",
              "  <tbody>\n",
              "    <tr>\n",
              "      <th>0</th>\n",
              "      <td>Trần Văn Nga</td>\n",
              "      <td>913936888</td>\n",
              "      <td>CL1.1-10</td>\n",
              "      <td>Lake View City</td>\n",
              "    </tr>\n",
              "    <tr>\n",
              "      <th>1</th>\n",
              "      <td>Dịp Mỹ Linh</td>\n",
              "      <td>968888251</td>\n",
              "      <td>CL1.2-50</td>\n",
              "      <td>Lake View City</td>\n",
              "    </tr>\n",
              "    <tr>\n",
              "      <th>2</th>\n",
              "      <td>Nguyễn Bá Dũng</td>\n",
              "      <td>979026676</td>\n",
              "      <td>CL3.1-22</td>\n",
              "      <td>Lake View City</td>\n",
              "    </tr>\n",
              "    <tr>\n",
              "      <th>3</th>\n",
              "      <td>Uông Xuân Thọ</td>\n",
              "      <td>982524554</td>\n",
              "      <td>CL3.1-47</td>\n",
              "      <td>Lake View City</td>\n",
              "    </tr>\n",
              "    <tr>\n",
              "      <th>4</th>\n",
              "      <td>Nguyễn Thị Khánh Hoà</td>\n",
              "      <td>909019398</td>\n",
              "      <td>CL3.1-48</td>\n",
              "      <td>Lake View City</td>\n",
              "    </tr>\n",
              "  </tbody>\n",
              "</table>\n",
              "</div>\n",
              "      <button class=\"colab-df-convert\" onclick=\"convertToInteractive('df-22fc6f31-24e5-464e-b415-a08610822f79')\"\n",
              "              title=\"Convert this dataframe to an interactive table.\"\n",
              "              style=\"display:none;\">\n",
              "        \n",
              "  <svg xmlns=\"http://www.w3.org/2000/svg\" height=\"24px\"viewBox=\"0 0 24 24\"\n",
              "       width=\"24px\">\n",
              "    <path d=\"M0 0h24v24H0V0z\" fill=\"none\"/>\n",
              "    <path d=\"M18.56 5.44l.94 2.06.94-2.06 2.06-.94-2.06-.94-.94-2.06-.94 2.06-2.06.94zm-11 1L8.5 8.5l.94-2.06 2.06-.94-2.06-.94L8.5 2.5l-.94 2.06-2.06.94zm10 10l.94 2.06.94-2.06 2.06-.94-2.06-.94-.94-2.06-.94 2.06-2.06.94z\"/><path d=\"M17.41 7.96l-1.37-1.37c-.4-.4-.92-.59-1.43-.59-.52 0-1.04.2-1.43.59L10.3 9.45l-7.72 7.72c-.78.78-.78 2.05 0 2.83L4 21.41c.39.39.9.59 1.41.59.51 0 1.02-.2 1.41-.59l7.78-7.78 2.81-2.81c.8-.78.8-2.07 0-2.86zM5.41 20L4 18.59l7.72-7.72 1.47 1.35L5.41 20z\"/>\n",
              "  </svg>\n",
              "      </button>\n",
              "      \n",
              "  <style>\n",
              "    .colab-df-container {\n",
              "      display:flex;\n",
              "      flex-wrap:wrap;\n",
              "      gap: 12px;\n",
              "    }\n",
              "\n",
              "    .colab-df-convert {\n",
              "      background-color: #E8F0FE;\n",
              "      border: none;\n",
              "      border-radius: 50%;\n",
              "      cursor: pointer;\n",
              "      display: none;\n",
              "      fill: #1967D2;\n",
              "      height: 32px;\n",
              "      padding: 0 0 0 0;\n",
              "      width: 32px;\n",
              "    }\n",
              "\n",
              "    .colab-df-convert:hover {\n",
              "      background-color: #E2EBFA;\n",
              "      box-shadow: 0px 1px 2px rgba(60, 64, 67, 0.3), 0px 1px 3px 1px rgba(60, 64, 67, 0.15);\n",
              "      fill: #174EA6;\n",
              "    }\n",
              "\n",
              "    [theme=dark] .colab-df-convert {\n",
              "      background-color: #3B4455;\n",
              "      fill: #D2E3FC;\n",
              "    }\n",
              "\n",
              "    [theme=dark] .colab-df-convert:hover {\n",
              "      background-color: #434B5C;\n",
              "      box-shadow: 0px 1px 3px 1px rgba(0, 0, 0, 0.15);\n",
              "      filter: drop-shadow(0px 1px 2px rgba(0, 0, 0, 0.3));\n",
              "      fill: #FFFFFF;\n",
              "    }\n",
              "  </style>\n",
              "\n",
              "      <script>\n",
              "        const buttonEl =\n",
              "          document.querySelector('#df-22fc6f31-24e5-464e-b415-a08610822f79 button.colab-df-convert');\n",
              "        buttonEl.style.display =\n",
              "          google.colab.kernel.accessAllowed ? 'block' : 'none';\n",
              "\n",
              "        async function convertToInteractive(key) {\n",
              "          const element = document.querySelector('#df-22fc6f31-24e5-464e-b415-a08610822f79');\n",
              "          const dataTable =\n",
              "            await google.colab.kernel.invokeFunction('convertToInteractive',\n",
              "                                                     [key], {});\n",
              "          if (!dataTable) return;\n",
              "\n",
              "          const docLinkHtml = 'Like what you see? Visit the ' +\n",
              "            '<a target=\"_blank\" href=https://colab.research.google.com/notebooks/data_table.ipynb>data table notebook</a>'\n",
              "            + ' to learn more about interactive tables.';\n",
              "          element.innerHTML = '';\n",
              "          dataTable['output_type'] = 'display_data';\n",
              "          await google.colab.output.renderOutput(dataTable, element);\n",
              "          const docLink = document.createElement('div');\n",
              "          docLink.innerHTML = docLinkHtml;\n",
              "          element.appendChild(docLink);\n",
              "        }\n",
              "      </script>\n",
              "    </div>\n",
              "  </div>\n",
              "  "
            ]
          },
          "metadata": {},
          "execution_count": 70
        }
      ]
    },
    {
      "cell_type": "markdown",
      "source": [
        "### Xử lý cột số điện thoại."
      ],
      "metadata": {
        "id": "r_ms7JNAHg0n"
      }
    },
    {
      "cell_type": "code",
      "source": [
        "import re\n",
        "\n",
        "def format_phone_numbers(phone_numbers):\n",
        "    \"\"\"\n",
        "    Chuyển đổi các số điện thoại thành định dạng chuẩn.\n",
        "    \"\"\"\n",
        "    # Loại bỏ các khoảng trắng và ký tự không cần thiết\n",
        "\n",
        "    phone_numbers=str(phone_numbers).replace('\\n',';')\n",
        "    phone_numbers = re.sub('[^0-9;+]', '', phone_numbers)\n",
        "    \n",
        "    # Chuyển đổi các số điện thoại thành định dạng chuẩn\n",
        "    formatted_numbers = []\n",
        "    for phone_number in phone_numbers.split(';'):\n",
        "        if phone_number.startswith('+'):\n",
        "            formatted_numbers.append(phone_number)\n",
        "        elif len(phone_number) == 10:\n",
        "            formatted_numbers.append('+84' + phone_number[1:])\n",
        "        elif len(phone_number) == 11 and phone_number.startswith('0'):\n",
        "            formatted_numbers.append('+84' + phone_number[1:])\n",
        "        elif len(phone_number) < 9 and phone_number.startswith('+'):\n",
        "            formatted_numbers=formatted_numbers\n",
        "        elif len(phone_number) == 9 :\n",
        "            formatted_numbers.append('+84' + phone_number)    \n",
        "        elif len(phone_number) < 9 :\n",
        "            formatted_numbers=formatted_numbers\n",
        "        else:\n",
        "            formatted_numbers.append(phone_number)\n",
        "    formatted_numbers = list(set(formatted_numbers))\n",
        "    for i in formatted_numbers:\n",
        "      if i == \"\":\n",
        "        formatted_numbers.remove(i)\n",
        "      if len(i) >=15: \n",
        "        formatted_numbers.remove(i)\n",
        "    # Kiểm tra độ dài của phần tử hiện tại\n",
        "    \"\"\"if len(formatted_numbers) < 3:\n",
        "        # Thêm các giá trị 0 vào cuối phần tử để đạt độ dài bằng 5\n",
        "        formatted_numbers += [''] * (3 - len(formatted_numbers))\n",
        "    elif len(formatted_numbers) > 3:\n",
        "        # Nếu phần tử có độ dài lớn hơn 3, thì cắt bớt đến độ dài 3\n",
        "        formatted_numbers = formatted_numbers[:3]\"\"\"\n",
        "\n",
        "    \n",
        "    return formatted_numbers\n",
        "    # Ghép các số điện thoại thành một chuỗi ngăn cách bằng dấu ';'\n",
        "    #return '; '.join(formatted_numbers)"
      ],
      "metadata": {
        "id": "wexPX83iCPuf"
      },
      "execution_count": null,
      "outputs": []
    },
    {
      "cell_type": "code",
      "source": [
        "data['so_dien_thoai']=data['so_dien_thoai'].apply(format_phone_numbers)"
      ],
      "metadata": {
        "id": "cs9peqVJD3Ia"
      },
      "execution_count": null,
      "outputs": []
    },
    {
      "cell_type": "markdown",
      "source": [
        "### Sinh id can ho."
      ],
      "metadata": {
        "id": "XRdMa0HJHqIJ"
      }
    },
    {
      "cell_type": "code",
      "source": [
        "data['id_can_ho'] = \"\""
      ],
      "metadata": {
        "id": "38jzOEcvD9jx"
      },
      "execution_count": null,
      "outputs": []
    },
    {
      "cell_type": "code",
      "source": [
        "data"
      ],
      "metadata": {
        "colab": {
          "base_uri": "https://localhost:8080/",
          "height": 423
        },
        "id": "zrTY7lVfEcyR",
        "outputId": "999f5833-c960-452b-b63b-2703d801e3bd"
      },
      "execution_count": null,
      "outputs": [
        {
          "output_type": "execute_result",
          "data": {
            "text/plain": [
              "                            ho_ten                  so_dien_thoai    ma_can  \\\n",
              "0                     Trần Văn Nga                 [+84913936888]  CL1.1-10   \n",
              "1                      Dịp Mỹ Linh                 [+84968888251]  CL1.2-50   \n",
              "2                   Nguyễn Bá Dũng                 [+84979026676]  CL3.1-22   \n",
              "3                    Uông Xuân Thọ                 [+84982524554]  CL3.1-47   \n",
              "4             Nguyễn Thị Khánh Hoà                 [+84909019398]  CL3.1-48   \n",
              "..                             ...                            ...       ...   \n",
              "334                 Phùng Vĩnh Đạt                 [+84903754992]    EL2-24   \n",
              "335             Nguyên Thị Mỹ hạnh                 [+84947438388]    EL2-24   \n",
              "336  Phạm Hi Bách \\nTRần Thanh Mai  [+84914182992, +841279683999]    EL2-27   \n",
              "337                      Vũ thị Lữ                 [+84935850909]    EL2-28   \n",
              "338                Phan thanh thuỷ                 [+84972295954]    EL2-30   \n",
              "\n",
              "             du_can id_can_ho  \n",
              "0    Lake View City            \n",
              "1    Lake View City            \n",
              "2    Lake View City            \n",
              "3    Lake View City            \n",
              "4    Lake View City            \n",
              "..              ...       ...  \n",
              "334  Lake View City            \n",
              "335  Lake View City            \n",
              "336  Lake View City            \n",
              "337  Lake View City            \n",
              "338  Lake View City            \n",
              "\n",
              "[339 rows x 5 columns]"
            ],
            "text/html": [
              "\n",
              "  <div id=\"df-a6606b4a-3747-4c0d-97b2-13ef7f69d0c2\">\n",
              "    <div class=\"colab-df-container\">\n",
              "      <div>\n",
              "<style scoped>\n",
              "    .dataframe tbody tr th:only-of-type {\n",
              "        vertical-align: middle;\n",
              "    }\n",
              "\n",
              "    .dataframe tbody tr th {\n",
              "        vertical-align: top;\n",
              "    }\n",
              "\n",
              "    .dataframe thead th {\n",
              "        text-align: right;\n",
              "    }\n",
              "</style>\n",
              "<table border=\"1\" class=\"dataframe\">\n",
              "  <thead>\n",
              "    <tr style=\"text-align: right;\">\n",
              "      <th></th>\n",
              "      <th>ho_ten</th>\n",
              "      <th>so_dien_thoai</th>\n",
              "      <th>ma_can</th>\n",
              "      <th>du_can</th>\n",
              "      <th>id_can_ho</th>\n",
              "    </tr>\n",
              "  </thead>\n",
              "  <tbody>\n",
              "    <tr>\n",
              "      <th>0</th>\n",
              "      <td>Trần Văn Nga</td>\n",
              "      <td>[+84913936888]</td>\n",
              "      <td>CL1.1-10</td>\n",
              "      <td>Lake View City</td>\n",
              "      <td></td>\n",
              "    </tr>\n",
              "    <tr>\n",
              "      <th>1</th>\n",
              "      <td>Dịp Mỹ Linh</td>\n",
              "      <td>[+84968888251]</td>\n",
              "      <td>CL1.2-50</td>\n",
              "      <td>Lake View City</td>\n",
              "      <td></td>\n",
              "    </tr>\n",
              "    <tr>\n",
              "      <th>2</th>\n",
              "      <td>Nguyễn Bá Dũng</td>\n",
              "      <td>[+84979026676]</td>\n",
              "      <td>CL3.1-22</td>\n",
              "      <td>Lake View City</td>\n",
              "      <td></td>\n",
              "    </tr>\n",
              "    <tr>\n",
              "      <th>3</th>\n",
              "      <td>Uông Xuân Thọ</td>\n",
              "      <td>[+84982524554]</td>\n",
              "      <td>CL3.1-47</td>\n",
              "      <td>Lake View City</td>\n",
              "      <td></td>\n",
              "    </tr>\n",
              "    <tr>\n",
              "      <th>4</th>\n",
              "      <td>Nguyễn Thị Khánh Hoà</td>\n",
              "      <td>[+84909019398]</td>\n",
              "      <td>CL3.1-48</td>\n",
              "      <td>Lake View City</td>\n",
              "      <td></td>\n",
              "    </tr>\n",
              "    <tr>\n",
              "      <th>...</th>\n",
              "      <td>...</td>\n",
              "      <td>...</td>\n",
              "      <td>...</td>\n",
              "      <td>...</td>\n",
              "      <td>...</td>\n",
              "    </tr>\n",
              "    <tr>\n",
              "      <th>334</th>\n",
              "      <td>Phùng Vĩnh Đạt</td>\n",
              "      <td>[+84903754992]</td>\n",
              "      <td>EL2-24</td>\n",
              "      <td>Lake View City</td>\n",
              "      <td></td>\n",
              "    </tr>\n",
              "    <tr>\n",
              "      <th>335</th>\n",
              "      <td>Nguyên Thị Mỹ hạnh</td>\n",
              "      <td>[+84947438388]</td>\n",
              "      <td>EL2-24</td>\n",
              "      <td>Lake View City</td>\n",
              "      <td></td>\n",
              "    </tr>\n",
              "    <tr>\n",
              "      <th>336</th>\n",
              "      <td>Phạm Hi Bách \\nTRần Thanh Mai</td>\n",
              "      <td>[+84914182992, +841279683999]</td>\n",
              "      <td>EL2-27</td>\n",
              "      <td>Lake View City</td>\n",
              "      <td></td>\n",
              "    </tr>\n",
              "    <tr>\n",
              "      <th>337</th>\n",
              "      <td>Vũ thị Lữ</td>\n",
              "      <td>[+84935850909]</td>\n",
              "      <td>EL2-28</td>\n",
              "      <td>Lake View City</td>\n",
              "      <td></td>\n",
              "    </tr>\n",
              "    <tr>\n",
              "      <th>338</th>\n",
              "      <td>Phan thanh thuỷ</td>\n",
              "      <td>[+84972295954]</td>\n",
              "      <td>EL2-30</td>\n",
              "      <td>Lake View City</td>\n",
              "      <td></td>\n",
              "    </tr>\n",
              "  </tbody>\n",
              "</table>\n",
              "<p>339 rows × 5 columns</p>\n",
              "</div>\n",
              "      <button class=\"colab-df-convert\" onclick=\"convertToInteractive('df-a6606b4a-3747-4c0d-97b2-13ef7f69d0c2')\"\n",
              "              title=\"Convert this dataframe to an interactive table.\"\n",
              "              style=\"display:none;\">\n",
              "        \n",
              "  <svg xmlns=\"http://www.w3.org/2000/svg\" height=\"24px\"viewBox=\"0 0 24 24\"\n",
              "       width=\"24px\">\n",
              "    <path d=\"M0 0h24v24H0V0z\" fill=\"none\"/>\n",
              "    <path d=\"M18.56 5.44l.94 2.06.94-2.06 2.06-.94-2.06-.94-.94-2.06-.94 2.06-2.06.94zm-11 1L8.5 8.5l.94-2.06 2.06-.94-2.06-.94L8.5 2.5l-.94 2.06-2.06.94zm10 10l.94 2.06.94-2.06 2.06-.94-2.06-.94-.94-2.06-.94 2.06-2.06.94z\"/><path d=\"M17.41 7.96l-1.37-1.37c-.4-.4-.92-.59-1.43-.59-.52 0-1.04.2-1.43.59L10.3 9.45l-7.72 7.72c-.78.78-.78 2.05 0 2.83L4 21.41c.39.39.9.59 1.41.59.51 0 1.02-.2 1.41-.59l7.78-7.78 2.81-2.81c.8-.78.8-2.07 0-2.86zM5.41 20L4 18.59l7.72-7.72 1.47 1.35L5.41 20z\"/>\n",
              "  </svg>\n",
              "      </button>\n",
              "      \n",
              "  <style>\n",
              "    .colab-df-container {\n",
              "      display:flex;\n",
              "      flex-wrap:wrap;\n",
              "      gap: 12px;\n",
              "    }\n",
              "\n",
              "    .colab-df-convert {\n",
              "      background-color: #E8F0FE;\n",
              "      border: none;\n",
              "      border-radius: 50%;\n",
              "      cursor: pointer;\n",
              "      display: none;\n",
              "      fill: #1967D2;\n",
              "      height: 32px;\n",
              "      padding: 0 0 0 0;\n",
              "      width: 32px;\n",
              "    }\n",
              "\n",
              "    .colab-df-convert:hover {\n",
              "      background-color: #E2EBFA;\n",
              "      box-shadow: 0px 1px 2px rgba(60, 64, 67, 0.3), 0px 1px 3px 1px rgba(60, 64, 67, 0.15);\n",
              "      fill: #174EA6;\n",
              "    }\n",
              "\n",
              "    [theme=dark] .colab-df-convert {\n",
              "      background-color: #3B4455;\n",
              "      fill: #D2E3FC;\n",
              "    }\n",
              "\n",
              "    [theme=dark] .colab-df-convert:hover {\n",
              "      background-color: #434B5C;\n",
              "      box-shadow: 0px 1px 3px 1px rgba(0, 0, 0, 0.15);\n",
              "      filter: drop-shadow(0px 1px 2px rgba(0, 0, 0, 0.3));\n",
              "      fill: #FFFFFF;\n",
              "    }\n",
              "  </style>\n",
              "\n",
              "      <script>\n",
              "        const buttonEl =\n",
              "          document.querySelector('#df-a6606b4a-3747-4c0d-97b2-13ef7f69d0c2 button.colab-df-convert');\n",
              "        buttonEl.style.display =\n",
              "          google.colab.kernel.accessAllowed ? 'block' : 'none';\n",
              "\n",
              "        async function convertToInteractive(key) {\n",
              "          const element = document.querySelector('#df-a6606b4a-3747-4c0d-97b2-13ef7f69d0c2');\n",
              "          const dataTable =\n",
              "            await google.colab.kernel.invokeFunction('convertToInteractive',\n",
              "                                                     [key], {});\n",
              "          if (!dataTable) return;\n",
              "\n",
              "          const docLinkHtml = 'Like what you see? Visit the ' +\n",
              "            '<a target=\"_blank\" href=https://colab.research.google.com/notebooks/data_table.ipynb>data table notebook</a>'\n",
              "            + ' to learn more about interactive tables.';\n",
              "          element.innerHTML = '';\n",
              "          dataTable['output_type'] = 'display_data';\n",
              "          await google.colab.output.renderOutput(dataTable, element);\n",
              "          const docLink = document.createElement('div');\n",
              "          docLink.innerHTML = docLinkHtml;\n",
              "          element.appendChild(docLink);\n",
              "        }\n",
              "      </script>\n",
              "    </div>\n",
              "  </div>\n",
              "  "
            ]
          },
          "metadata": {},
          "execution_count": 80
        }
      ]
    },
    {
      "cell_type": "code",
      "source": [
        "def get__elements(lst):\n",
        "    result = []\n",
        "    for item in lst:\n",
        "        first_five = item[4:]  # Lấy 5 giá trị đầu tiên của phần tử\n",
        "        result.append(first_five)\n",
        "    return result"
      ],
      "metadata": {
        "id": "ZaE9bs1CJ7qI"
      },
      "execution_count": null,
      "outputs": []
    },
    {
      "cell_type": "code",
      "source": [
        "id_chu_ho_prev = chu_ho['id_chu_ho'].tolist()\n",
        "id_chu_ho_prev=get__elements(id_chu_ho_prev)"
      ],
      "metadata": {
        "id": "9PsXMtSfM3gy"
      },
      "execution_count": null,
      "outputs": []
    },
    {
      "cell_type": "code",
      "source": [
        "id_can_ho_prev = can_ho['id_can_ho'].tolist()"
      ],
      "metadata": {
        "id": "L2Yl5qe4HWGB"
      },
      "execution_count": null,
      "outputs": []
    },
    {
      "cell_type": "code",
      "source": [
        "id_can_ho_prev=get__elements(id_can_ho_prev)"
      ],
      "metadata": {
        "id": "TF61qSN4H3d6"
      },
      "execution_count": null,
      "outputs": []
    },
    {
      "cell_type": "code",
      "source": [
        "import string\n",
        "import random\n",
        "\n",
        "def generate_id(existing_ids):\n",
        "  while True:\n",
        "    letters_and_digits = string.ascii_letters + string.digits\n",
        "    new_id = ''.join((random.choice(letters_and_digits) for i in range(8)))\n",
        "    if new_id not in existing_ids:\n",
        "          return new_id\n",
        "# Sử dụng hàm generate_id để tạo ra một ID mới\n",
        "my_id = generate_id(id_can_ho_prev)\n",
        "print(my_id)"
      ],
      "metadata": {
        "colab": {
          "base_uri": "https://localhost:8080/"
        },
        "id": "yzeybPGIG7Sv",
        "outputId": "f1a404f7-39ba-4934-aba0-1dca6696812e"
      },
      "execution_count": null,
      "outputs": [
        {
          "output_type": "stream",
          "name": "stdout",
          "text": [
            "MaVDPami\n"
          ]
        }
      ]
    },
    {
      "cell_type": "code",
      "source": [
        "data[\"id_can_ho\"] =  data[\"id_can_ho\"].apply( lambda x : \"CHO_\" + generate_id(id_can_ho_prev) )"
      ],
      "metadata": {
        "id": "RiF43gFRKxkC"
      },
      "execution_count": null,
      "outputs": []
    },
    {
      "cell_type": "code",
      "source": [
        "data"
      ],
      "metadata": {
        "colab": {
          "base_uri": "https://localhost:8080/",
          "height": 423
        },
        "id": "-eJZ9h9-Kxhd",
        "outputId": "ffab2313-96da-42fe-b02b-83f5b66a2075"
      },
      "execution_count": null,
      "outputs": [
        {
          "output_type": "execute_result",
          "data": {
            "text/plain": [
              "                            ho_ten                  so_dien_thoai    ma_can  \\\n",
              "0                     Trần Văn Nga                 [+84913936888]  CL1.1-10   \n",
              "1                      Dịp Mỹ Linh                 [+84968888251]  CL1.2-50   \n",
              "2                   Nguyễn Bá Dũng                 [+84979026676]  CL3.1-22   \n",
              "3                    Uông Xuân Thọ                 [+84982524554]  CL3.1-47   \n",
              "4             Nguyễn Thị Khánh Hoà                 [+84909019398]  CL3.1-48   \n",
              "..                             ...                            ...       ...   \n",
              "334                 Phùng Vĩnh Đạt                 [+84903754992]    EL2-24   \n",
              "335             Nguyên Thị Mỹ hạnh                 [+84947438388]    EL2-24   \n",
              "336  Phạm Hi Bách \\nTRần Thanh Mai  [+84914182992, +841279683999]    EL2-27   \n",
              "337                      Vũ thị Lữ                 [+84935850909]    EL2-28   \n",
              "338                Phan thanh thuỷ                 [+84972295954]    EL2-30   \n",
              "\n",
              "             du_can     id_can_ho  \n",
              "0    Lake View City  CHO_U0hW4tcR  \n",
              "1    Lake View City  CHO_b7krY1Sc  \n",
              "2    Lake View City  CHO_MoGc96qJ  \n",
              "3    Lake View City  CHO_eU5B6Yf0  \n",
              "4    Lake View City  CHO_hQBMXORT  \n",
              "..              ...           ...  \n",
              "334  Lake View City  CHO_bOVeLo0r  \n",
              "335  Lake View City  CHO_B2GrphVr  \n",
              "336  Lake View City  CHO_JP071KsQ  \n",
              "337  Lake View City  CHO_dlsZlP9y  \n",
              "338  Lake View City  CHO_KpWLbCYm  \n",
              "\n",
              "[339 rows x 5 columns]"
            ],
            "text/html": [
              "\n",
              "  <div id=\"df-e4fc52e4-9546-42a8-bd79-aeec309d35ba\">\n",
              "    <div class=\"colab-df-container\">\n",
              "      <div>\n",
              "<style scoped>\n",
              "    .dataframe tbody tr th:only-of-type {\n",
              "        vertical-align: middle;\n",
              "    }\n",
              "\n",
              "    .dataframe tbody tr th {\n",
              "        vertical-align: top;\n",
              "    }\n",
              "\n",
              "    .dataframe thead th {\n",
              "        text-align: right;\n",
              "    }\n",
              "</style>\n",
              "<table border=\"1\" class=\"dataframe\">\n",
              "  <thead>\n",
              "    <tr style=\"text-align: right;\">\n",
              "      <th></th>\n",
              "      <th>ho_ten</th>\n",
              "      <th>so_dien_thoai</th>\n",
              "      <th>ma_can</th>\n",
              "      <th>du_can</th>\n",
              "      <th>id_can_ho</th>\n",
              "    </tr>\n",
              "  </thead>\n",
              "  <tbody>\n",
              "    <tr>\n",
              "      <th>0</th>\n",
              "      <td>Trần Văn Nga</td>\n",
              "      <td>[+84913936888]</td>\n",
              "      <td>CL1.1-10</td>\n",
              "      <td>Lake View City</td>\n",
              "      <td>CHO_U0hW4tcR</td>\n",
              "    </tr>\n",
              "    <tr>\n",
              "      <th>1</th>\n",
              "      <td>Dịp Mỹ Linh</td>\n",
              "      <td>[+84968888251]</td>\n",
              "      <td>CL1.2-50</td>\n",
              "      <td>Lake View City</td>\n",
              "      <td>CHO_b7krY1Sc</td>\n",
              "    </tr>\n",
              "    <tr>\n",
              "      <th>2</th>\n",
              "      <td>Nguyễn Bá Dũng</td>\n",
              "      <td>[+84979026676]</td>\n",
              "      <td>CL3.1-22</td>\n",
              "      <td>Lake View City</td>\n",
              "      <td>CHO_MoGc96qJ</td>\n",
              "    </tr>\n",
              "    <tr>\n",
              "      <th>3</th>\n",
              "      <td>Uông Xuân Thọ</td>\n",
              "      <td>[+84982524554]</td>\n",
              "      <td>CL3.1-47</td>\n",
              "      <td>Lake View City</td>\n",
              "      <td>CHO_eU5B6Yf0</td>\n",
              "    </tr>\n",
              "    <tr>\n",
              "      <th>4</th>\n",
              "      <td>Nguyễn Thị Khánh Hoà</td>\n",
              "      <td>[+84909019398]</td>\n",
              "      <td>CL3.1-48</td>\n",
              "      <td>Lake View City</td>\n",
              "      <td>CHO_hQBMXORT</td>\n",
              "    </tr>\n",
              "    <tr>\n",
              "      <th>...</th>\n",
              "      <td>...</td>\n",
              "      <td>...</td>\n",
              "      <td>...</td>\n",
              "      <td>...</td>\n",
              "      <td>...</td>\n",
              "    </tr>\n",
              "    <tr>\n",
              "      <th>334</th>\n",
              "      <td>Phùng Vĩnh Đạt</td>\n",
              "      <td>[+84903754992]</td>\n",
              "      <td>EL2-24</td>\n",
              "      <td>Lake View City</td>\n",
              "      <td>CHO_bOVeLo0r</td>\n",
              "    </tr>\n",
              "    <tr>\n",
              "      <th>335</th>\n",
              "      <td>Nguyên Thị Mỹ hạnh</td>\n",
              "      <td>[+84947438388]</td>\n",
              "      <td>EL2-24</td>\n",
              "      <td>Lake View City</td>\n",
              "      <td>CHO_B2GrphVr</td>\n",
              "    </tr>\n",
              "    <tr>\n",
              "      <th>336</th>\n",
              "      <td>Phạm Hi Bách \\nTRần Thanh Mai</td>\n",
              "      <td>[+84914182992, +841279683999]</td>\n",
              "      <td>EL2-27</td>\n",
              "      <td>Lake View City</td>\n",
              "      <td>CHO_JP071KsQ</td>\n",
              "    </tr>\n",
              "    <tr>\n",
              "      <th>337</th>\n",
              "      <td>Vũ thị Lữ</td>\n",
              "      <td>[+84935850909]</td>\n",
              "      <td>EL2-28</td>\n",
              "      <td>Lake View City</td>\n",
              "      <td>CHO_dlsZlP9y</td>\n",
              "    </tr>\n",
              "    <tr>\n",
              "      <th>338</th>\n",
              "      <td>Phan thanh thuỷ</td>\n",
              "      <td>[+84972295954]</td>\n",
              "      <td>EL2-30</td>\n",
              "      <td>Lake View City</td>\n",
              "      <td>CHO_KpWLbCYm</td>\n",
              "    </tr>\n",
              "  </tbody>\n",
              "</table>\n",
              "<p>339 rows × 5 columns</p>\n",
              "</div>\n",
              "      <button class=\"colab-df-convert\" onclick=\"convertToInteractive('df-e4fc52e4-9546-42a8-bd79-aeec309d35ba')\"\n",
              "              title=\"Convert this dataframe to an interactive table.\"\n",
              "              style=\"display:none;\">\n",
              "        \n",
              "  <svg xmlns=\"http://www.w3.org/2000/svg\" height=\"24px\"viewBox=\"0 0 24 24\"\n",
              "       width=\"24px\">\n",
              "    <path d=\"M0 0h24v24H0V0z\" fill=\"none\"/>\n",
              "    <path d=\"M18.56 5.44l.94 2.06.94-2.06 2.06-.94-2.06-.94-.94-2.06-.94 2.06-2.06.94zm-11 1L8.5 8.5l.94-2.06 2.06-.94-2.06-.94L8.5 2.5l-.94 2.06-2.06.94zm10 10l.94 2.06.94-2.06 2.06-.94-2.06-.94-.94-2.06-.94 2.06-2.06.94z\"/><path d=\"M17.41 7.96l-1.37-1.37c-.4-.4-.92-.59-1.43-.59-.52 0-1.04.2-1.43.59L10.3 9.45l-7.72 7.72c-.78.78-.78 2.05 0 2.83L4 21.41c.39.39.9.59 1.41.59.51 0 1.02-.2 1.41-.59l7.78-7.78 2.81-2.81c.8-.78.8-2.07 0-2.86zM5.41 20L4 18.59l7.72-7.72 1.47 1.35L5.41 20z\"/>\n",
              "  </svg>\n",
              "      </button>\n",
              "      \n",
              "  <style>\n",
              "    .colab-df-container {\n",
              "      display:flex;\n",
              "      flex-wrap:wrap;\n",
              "      gap: 12px;\n",
              "    }\n",
              "\n",
              "    .colab-df-convert {\n",
              "      background-color: #E8F0FE;\n",
              "      border: none;\n",
              "      border-radius: 50%;\n",
              "      cursor: pointer;\n",
              "      display: none;\n",
              "      fill: #1967D2;\n",
              "      height: 32px;\n",
              "      padding: 0 0 0 0;\n",
              "      width: 32px;\n",
              "    }\n",
              "\n",
              "    .colab-df-convert:hover {\n",
              "      background-color: #E2EBFA;\n",
              "      box-shadow: 0px 1px 2px rgba(60, 64, 67, 0.3), 0px 1px 3px 1px rgba(60, 64, 67, 0.15);\n",
              "      fill: #174EA6;\n",
              "    }\n",
              "\n",
              "    [theme=dark] .colab-df-convert {\n",
              "      background-color: #3B4455;\n",
              "      fill: #D2E3FC;\n",
              "    }\n",
              "\n",
              "    [theme=dark] .colab-df-convert:hover {\n",
              "      background-color: #434B5C;\n",
              "      box-shadow: 0px 1px 3px 1px rgba(0, 0, 0, 0.15);\n",
              "      filter: drop-shadow(0px 1px 2px rgba(0, 0, 0, 0.3));\n",
              "      fill: #FFFFFF;\n",
              "    }\n",
              "  </style>\n",
              "\n",
              "      <script>\n",
              "        const buttonEl =\n",
              "          document.querySelector('#df-e4fc52e4-9546-42a8-bd79-aeec309d35ba button.colab-df-convert');\n",
              "        buttonEl.style.display =\n",
              "          google.colab.kernel.accessAllowed ? 'block' : 'none';\n",
              "\n",
              "        async function convertToInteractive(key) {\n",
              "          const element = document.querySelector('#df-e4fc52e4-9546-42a8-bd79-aeec309d35ba');\n",
              "          const dataTable =\n",
              "            await google.colab.kernel.invokeFunction('convertToInteractive',\n",
              "                                                     [key], {});\n",
              "          if (!dataTable) return;\n",
              "\n",
              "          const docLinkHtml = 'Like what you see? Visit the ' +\n",
              "            '<a target=\"_blank\" href=https://colab.research.google.com/notebooks/data_table.ipynb>data table notebook</a>'\n",
              "            + ' to learn more about interactive tables.';\n",
              "          element.innerHTML = '';\n",
              "          dataTable['output_type'] = 'display_data';\n",
              "          await google.colab.output.renderOutput(dataTable, element);\n",
              "          const docLink = document.createElement('div');\n",
              "          docLink.innerHTML = docLinkHtml;\n",
              "          element.appendChild(docLink);\n",
              "        }\n",
              "      </script>\n",
              "    </div>\n",
              "  </div>\n",
              "  "
            ]
          },
          "metadata": {},
          "execution_count": 114
        }
      ]
    },
    {
      "cell_type": "code",
      "source": [
        "data.shape"
      ],
      "metadata": {
        "colab": {
          "base_uri": "https://localhost:8080/"
        },
        "id": "8vUXiRpMKxe8",
        "outputId": "989830c8-2edb-4ee4-e934-f6817707df3c"
      },
      "execution_count": null,
      "outputs": [
        {
          "output_type": "execute_result",
          "data": {
            "text/plain": [
              "(339, 5)"
            ]
          },
          "metadata": {},
          "execution_count": 116
        }
      ]
    },
    {
      "cell_type": "markdown",
      "source": [
        "### ĐỔ BẢNG CHỦ HO."
      ],
      "metadata": {
        "id": "B5g56NJPLUgY"
      }
    },
    {
      "cell_type": "code",
      "source": [
        "data_copy = data.copy()"
      ],
      "metadata": {
        "id": "oqEP8GpGLju9"
      },
      "execution_count": null,
      "outputs": []
    },
    {
      "cell_type": "code",
      "source": [
        "df_exploded = data_copy.explode('so_dien_thoai')"
      ],
      "metadata": {
        "id": "2GnlVnWVKxcv"
      },
      "execution_count": null,
      "outputs": []
    },
    {
      "cell_type": "code",
      "source": [
        "df_exploded"
      ],
      "metadata": {
        "colab": {
          "base_uri": "https://localhost:8080/",
          "height": 423
        },
        "id": "ftZFK3QcKxZ6",
        "outputId": "98a1744b-5cd6-4467-859f-0128995d85c1"
      },
      "execution_count": null,
      "outputs": [
        {
          "output_type": "execute_result",
          "data": {
            "text/plain": [
              "                            ho_ten  so_dien_thoai    ma_can          du_can  \\\n",
              "0                     Trần Văn Nga   +84913936888  CL1.1-10  Lake View City   \n",
              "1                      Dịp Mỹ Linh   +84968888251  CL1.2-50  Lake View City   \n",
              "2                   Nguyễn Bá Dũng   +84979026676  CL3.1-22  Lake View City   \n",
              "3                    Uông Xuân Thọ   +84982524554  CL3.1-47  Lake View City   \n",
              "4             Nguyễn Thị Khánh Hoà   +84909019398  CL3.1-48  Lake View City   \n",
              "..                             ...            ...       ...             ...   \n",
              "335             Nguyên Thị Mỹ hạnh   +84947438388    EL2-24  Lake View City   \n",
              "336  Phạm Hi Bách \\nTRần Thanh Mai   +84914182992    EL2-27  Lake View City   \n",
              "336  Phạm Hi Bách \\nTRần Thanh Mai  +841279683999    EL2-27  Lake View City   \n",
              "337                      Vũ thị Lữ   +84935850909    EL2-28  Lake View City   \n",
              "338                Phan thanh thuỷ   +84972295954    EL2-30  Lake View City   \n",
              "\n",
              "        id_can_ho  \n",
              "0    CHO_U0hW4tcR  \n",
              "1    CHO_b7krY1Sc  \n",
              "2    CHO_MoGc96qJ  \n",
              "3    CHO_eU5B6Yf0  \n",
              "4    CHO_hQBMXORT  \n",
              "..            ...  \n",
              "335  CHO_B2GrphVr  \n",
              "336  CHO_JP071KsQ  \n",
              "336  CHO_JP071KsQ  \n",
              "337  CHO_dlsZlP9y  \n",
              "338  CHO_KpWLbCYm  \n",
              "\n",
              "[366 rows x 5 columns]"
            ],
            "text/html": [
              "\n",
              "  <div id=\"df-2e64ab1d-578f-4840-96c0-adc9de8916ac\">\n",
              "    <div class=\"colab-df-container\">\n",
              "      <div>\n",
              "<style scoped>\n",
              "    .dataframe tbody tr th:only-of-type {\n",
              "        vertical-align: middle;\n",
              "    }\n",
              "\n",
              "    .dataframe tbody tr th {\n",
              "        vertical-align: top;\n",
              "    }\n",
              "\n",
              "    .dataframe thead th {\n",
              "        text-align: right;\n",
              "    }\n",
              "</style>\n",
              "<table border=\"1\" class=\"dataframe\">\n",
              "  <thead>\n",
              "    <tr style=\"text-align: right;\">\n",
              "      <th></th>\n",
              "      <th>ho_ten</th>\n",
              "      <th>so_dien_thoai</th>\n",
              "      <th>ma_can</th>\n",
              "      <th>du_can</th>\n",
              "      <th>id_can_ho</th>\n",
              "    </tr>\n",
              "  </thead>\n",
              "  <tbody>\n",
              "    <tr>\n",
              "      <th>0</th>\n",
              "      <td>Trần Văn Nga</td>\n",
              "      <td>+84913936888</td>\n",
              "      <td>CL1.1-10</td>\n",
              "      <td>Lake View City</td>\n",
              "      <td>CHO_U0hW4tcR</td>\n",
              "    </tr>\n",
              "    <tr>\n",
              "      <th>1</th>\n",
              "      <td>Dịp Mỹ Linh</td>\n",
              "      <td>+84968888251</td>\n",
              "      <td>CL1.2-50</td>\n",
              "      <td>Lake View City</td>\n",
              "      <td>CHO_b7krY1Sc</td>\n",
              "    </tr>\n",
              "    <tr>\n",
              "      <th>2</th>\n",
              "      <td>Nguyễn Bá Dũng</td>\n",
              "      <td>+84979026676</td>\n",
              "      <td>CL3.1-22</td>\n",
              "      <td>Lake View City</td>\n",
              "      <td>CHO_MoGc96qJ</td>\n",
              "    </tr>\n",
              "    <tr>\n",
              "      <th>3</th>\n",
              "      <td>Uông Xuân Thọ</td>\n",
              "      <td>+84982524554</td>\n",
              "      <td>CL3.1-47</td>\n",
              "      <td>Lake View City</td>\n",
              "      <td>CHO_eU5B6Yf0</td>\n",
              "    </tr>\n",
              "    <tr>\n",
              "      <th>4</th>\n",
              "      <td>Nguyễn Thị Khánh Hoà</td>\n",
              "      <td>+84909019398</td>\n",
              "      <td>CL3.1-48</td>\n",
              "      <td>Lake View City</td>\n",
              "      <td>CHO_hQBMXORT</td>\n",
              "    </tr>\n",
              "    <tr>\n",
              "      <th>...</th>\n",
              "      <td>...</td>\n",
              "      <td>...</td>\n",
              "      <td>...</td>\n",
              "      <td>...</td>\n",
              "      <td>...</td>\n",
              "    </tr>\n",
              "    <tr>\n",
              "      <th>335</th>\n",
              "      <td>Nguyên Thị Mỹ hạnh</td>\n",
              "      <td>+84947438388</td>\n",
              "      <td>EL2-24</td>\n",
              "      <td>Lake View City</td>\n",
              "      <td>CHO_B2GrphVr</td>\n",
              "    </tr>\n",
              "    <tr>\n",
              "      <th>336</th>\n",
              "      <td>Phạm Hi Bách \\nTRần Thanh Mai</td>\n",
              "      <td>+84914182992</td>\n",
              "      <td>EL2-27</td>\n",
              "      <td>Lake View City</td>\n",
              "      <td>CHO_JP071KsQ</td>\n",
              "    </tr>\n",
              "    <tr>\n",
              "      <th>336</th>\n",
              "      <td>Phạm Hi Bách \\nTRần Thanh Mai</td>\n",
              "      <td>+841279683999</td>\n",
              "      <td>EL2-27</td>\n",
              "      <td>Lake View City</td>\n",
              "      <td>CHO_JP071KsQ</td>\n",
              "    </tr>\n",
              "    <tr>\n",
              "      <th>337</th>\n",
              "      <td>Vũ thị Lữ</td>\n",
              "      <td>+84935850909</td>\n",
              "      <td>EL2-28</td>\n",
              "      <td>Lake View City</td>\n",
              "      <td>CHO_dlsZlP9y</td>\n",
              "    </tr>\n",
              "    <tr>\n",
              "      <th>338</th>\n",
              "      <td>Phan thanh thuỷ</td>\n",
              "      <td>+84972295954</td>\n",
              "      <td>EL2-30</td>\n",
              "      <td>Lake View City</td>\n",
              "      <td>CHO_KpWLbCYm</td>\n",
              "    </tr>\n",
              "  </tbody>\n",
              "</table>\n",
              "<p>366 rows × 5 columns</p>\n",
              "</div>\n",
              "      <button class=\"colab-df-convert\" onclick=\"convertToInteractive('df-2e64ab1d-578f-4840-96c0-adc9de8916ac')\"\n",
              "              title=\"Convert this dataframe to an interactive table.\"\n",
              "              style=\"display:none;\">\n",
              "        \n",
              "  <svg xmlns=\"http://www.w3.org/2000/svg\" height=\"24px\"viewBox=\"0 0 24 24\"\n",
              "       width=\"24px\">\n",
              "    <path d=\"M0 0h24v24H0V0z\" fill=\"none\"/>\n",
              "    <path d=\"M18.56 5.44l.94 2.06.94-2.06 2.06-.94-2.06-.94-.94-2.06-.94 2.06-2.06.94zm-11 1L8.5 8.5l.94-2.06 2.06-.94-2.06-.94L8.5 2.5l-.94 2.06-2.06.94zm10 10l.94 2.06.94-2.06 2.06-.94-2.06-.94-.94-2.06-.94 2.06-2.06.94z\"/><path d=\"M17.41 7.96l-1.37-1.37c-.4-.4-.92-.59-1.43-.59-.52 0-1.04.2-1.43.59L10.3 9.45l-7.72 7.72c-.78.78-.78 2.05 0 2.83L4 21.41c.39.39.9.59 1.41.59.51 0 1.02-.2 1.41-.59l7.78-7.78 2.81-2.81c.8-.78.8-2.07 0-2.86zM5.41 20L4 18.59l7.72-7.72 1.47 1.35L5.41 20z\"/>\n",
              "  </svg>\n",
              "      </button>\n",
              "      \n",
              "  <style>\n",
              "    .colab-df-container {\n",
              "      display:flex;\n",
              "      flex-wrap:wrap;\n",
              "      gap: 12px;\n",
              "    }\n",
              "\n",
              "    .colab-df-convert {\n",
              "      background-color: #E8F0FE;\n",
              "      border: none;\n",
              "      border-radius: 50%;\n",
              "      cursor: pointer;\n",
              "      display: none;\n",
              "      fill: #1967D2;\n",
              "      height: 32px;\n",
              "      padding: 0 0 0 0;\n",
              "      width: 32px;\n",
              "    }\n",
              "\n",
              "    .colab-df-convert:hover {\n",
              "      background-color: #E2EBFA;\n",
              "      box-shadow: 0px 1px 2px rgba(60, 64, 67, 0.3), 0px 1px 3px 1px rgba(60, 64, 67, 0.15);\n",
              "      fill: #174EA6;\n",
              "    }\n",
              "\n",
              "    [theme=dark] .colab-df-convert {\n",
              "      background-color: #3B4455;\n",
              "      fill: #D2E3FC;\n",
              "    }\n",
              "\n",
              "    [theme=dark] .colab-df-convert:hover {\n",
              "      background-color: #434B5C;\n",
              "      box-shadow: 0px 1px 3px 1px rgba(0, 0, 0, 0.15);\n",
              "      filter: drop-shadow(0px 1px 2px rgba(0, 0, 0, 0.3));\n",
              "      fill: #FFFFFF;\n",
              "    }\n",
              "  </style>\n",
              "\n",
              "      <script>\n",
              "        const buttonEl =\n",
              "          document.querySelector('#df-2e64ab1d-578f-4840-96c0-adc9de8916ac button.colab-df-convert');\n",
              "        buttonEl.style.display =\n",
              "          google.colab.kernel.accessAllowed ? 'block' : 'none';\n",
              "\n",
              "        async function convertToInteractive(key) {\n",
              "          const element = document.querySelector('#df-2e64ab1d-578f-4840-96c0-adc9de8916ac');\n",
              "          const dataTable =\n",
              "            await google.colab.kernel.invokeFunction('convertToInteractive',\n",
              "                                                     [key], {});\n",
              "          if (!dataTable) return;\n",
              "\n",
              "          const docLinkHtml = 'Like what you see? Visit the ' +\n",
              "            '<a target=\"_blank\" href=https://colab.research.google.com/notebooks/data_table.ipynb>data table notebook</a>'\n",
              "            + ' to learn more about interactive tables.';\n",
              "          element.innerHTML = '';\n",
              "          dataTable['output_type'] = 'display_data';\n",
              "          await google.colab.output.renderOutput(dataTable, element);\n",
              "          const docLink = document.createElement('div');\n",
              "          docLink.innerHTML = docLinkHtml;\n",
              "          element.appendChild(docLink);\n",
              "        }\n",
              "      </script>\n",
              "    </div>\n",
              "  </div>\n",
              "  "
            ]
          },
          "metadata": {},
          "execution_count": 119
        }
      ]
    },
    {
      "cell_type": "code",
      "source": [
        "df_exploded[\"id_chu_ho\"]=''"
      ],
      "metadata": {
        "id": "9V8rtvu1MzDj"
      },
      "execution_count": null,
      "outputs": []
    },
    {
      "cell_type": "code",
      "source": [
        "df_exploded[\"id_chu_ho\"] = df_exploded[\"id_chu_ho\"].apply( lambda x : \"CNH_\" + generate_id(id_chu_ho_prev) )"
      ],
      "metadata": {
        "id": "Ue2NgmcMMwck"
      },
      "execution_count": null,
      "outputs": []
    },
    {
      "cell_type": "code",
      "source": [
        "df_exploded.shape"
      ],
      "metadata": {
        "colab": {
          "base_uri": "https://localhost:8080/"
        },
        "id": "ajEHZAD8NRUR",
        "outputId": "4d5425ff-eb8d-4dfd-83d5-9fe042781561"
      },
      "execution_count": null,
      "outputs": [
        {
          "output_type": "execute_result",
          "data": {
            "text/plain": [
              "(366, 6)"
            ]
          },
          "metadata": {},
          "execution_count": 127
        }
      ]
    },
    {
      "cell_type": "code",
      "source": [
        "df_exploded.to_excel('/content/drive/MyDrive/Data/Process_Data/Lake View City Quận 2/chu_ho.xlsx', index=False)"
      ],
      "metadata": {
        "id": "Rr4iqg7UNdmI"
      },
      "execution_count": null,
      "outputs": []
    },
    {
      "cell_type": "code",
      "source": [
        "df_unique = df_exploded.drop_duplicates(subset=['id_can_ho'])"
      ],
      "metadata": {
        "id": "xrvAyWBAKxXS"
      },
      "execution_count": null,
      "outputs": []
    },
    {
      "cell_type": "code",
      "source": [
        "df_unique.shape"
      ],
      "metadata": {
        "colab": {
          "base_uri": "https://localhost:8080/"
        },
        "id": "bECek-KGMmWW",
        "outputId": "9a71a693-8066-43c0-ae36-7c2eaa34b93a"
      },
      "execution_count": null,
      "outputs": [
        {
          "output_type": "execute_result",
          "data": {
            "text/plain": [
              "(339, 5)"
            ]
          },
          "metadata": {},
          "execution_count": 121
        }
      ]
    },
    {
      "cell_type": "code",
      "source": [
        "df_unique.to_excel('/content/drive/MyDrive/Data/Process_Data/Lake View City Quận 2/can_ho.xlsx', index=False)"
      ],
      "metadata": {
        "id": "LYdxdfhQMohq"
      },
      "execution_count": null,
      "outputs": []
    },
    {
      "cell_type": "code",
      "source": [],
      "metadata": {
        "id": "_TfDx9gANpsL"
      },
      "execution_count": null,
      "outputs": []
    }
  ],
  "metadata": {
    "colab": {
      "provenance": [],
      "collapsed_sections": [
        "eE2ioqp2AtjF",
        "AvdUa_waA-W0",
        "GWUaQxVB3kVG"
      ],
      "gpuType": "T4"
    },
    "kernelspec": {
      "display_name": "Python 3",
      "name": "python3"
    },
    "language_info": {
      "name": "python"
    },
    "accelerator": "GPU",
    "gpuClass": "standard"
  },
  "nbformat": 4,
  "nbformat_minor": 0
}